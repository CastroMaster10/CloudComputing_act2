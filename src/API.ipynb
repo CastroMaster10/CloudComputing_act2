{
 "cells": [
  {
   "cell_type": "markdown",
   "metadata": {},
   "source": [
    "ESTA ES UNA API MUY RUDIMENTARIA. \n",
    "\n",
    "Carece de entorno gráfico o de todas esas cosas bonitas que atraen presupuesto. \n",
    "\n",
    "No funciona con botones sino con dolor. \n",
    "\n",
    "Sin embargo, es el punto de partida."
   ]
  },
  {
   "cell_type": "code",
   "execution_count": 4,
   "metadata": {},
   "outputs": [
    {
     "data": {
      "application/vnd.microsoft.datawrangler.viewer.v0+json": {
       "columns": [
        {
         "name": "index",
         "rawType": "int64",
         "type": "integer"
        },
        {
         "name": "PC1",
         "rawType": "float64",
         "type": "float"
        },
        {
         "name": "PC2",
         "rawType": "float64",
         "type": "float"
        },
        {
         "name": "PC3",
         "rawType": "float64",
         "type": "float"
        }
       ],
       "conversionMethod": "pd.DataFrame",
       "ref": "8053af22-050d-40e9-8bc9-12572185dd40",
       "rows": [
        [
         "0",
         "-3.3689713297199417",
         "4.049083604692785",
         "9.756593790608555"
        ],
        [
         "1",
         "6.974735599488105",
         "9.657042961009198",
         "-4.051267352975012"
        ],
        [
         "2",
         "-6.941406777004659",
         "-0.315222001792923",
         "0.6495985487663299"
        ],
        [
         "3",
         "8.35449538251875",
         "-4.097799401093425",
         "1.2329958275018595"
        ],
        [
         "4",
         "-2.170427685253109",
         "1.4635061027161496",
         "-0.0767845104805652"
        ],
        [
         "5",
         "2.109910794697508",
         "1.7988667857294864",
         "0.7725555824642594"
        ],
        [
         "6",
         "-0.4525655436399258",
         "-1.7485407382589486",
         "0.0439508694347019"
        ],
        [
         "7",
         "5.116128577637021",
         "-6.153755784131136",
         "0.304705749216979"
        ],
        [
         "8",
         "-7.0548206968815785",
         "0.7886218946241067",
         "-6.64892372793027"
        ],
        [
         "9",
         "-2.5670783218421738",
         "-5.441803423495292",
         "-1.983424776606837"
        ]
       ],
       "shape": {
        "columns": 3,
        "rows": 10
       }
      },
      "text/html": [
       "<div>\n",
       "<style scoped>\n",
       "    .dataframe tbody tr th:only-of-type {\n",
       "        vertical-align: middle;\n",
       "    }\n",
       "\n",
       "    .dataframe tbody tr th {\n",
       "        vertical-align: top;\n",
       "    }\n",
       "\n",
       "    .dataframe thead th {\n",
       "        text-align: right;\n",
       "    }\n",
       "</style>\n",
       "<table border=\"1\" class=\"dataframe\">\n",
       "  <thead>\n",
       "    <tr style=\"text-align: right;\">\n",
       "      <th></th>\n",
       "      <th>PC1</th>\n",
       "      <th>PC2</th>\n",
       "      <th>PC3</th>\n",
       "    </tr>\n",
       "  </thead>\n",
       "  <tbody>\n",
       "    <tr>\n",
       "      <th>0</th>\n",
       "      <td>-3.368971</td>\n",
       "      <td>4.049084</td>\n",
       "      <td>9.756594</td>\n",
       "    </tr>\n",
       "    <tr>\n",
       "      <th>1</th>\n",
       "      <td>6.974736</td>\n",
       "      <td>9.657043</td>\n",
       "      <td>-4.051267</td>\n",
       "    </tr>\n",
       "    <tr>\n",
       "      <th>2</th>\n",
       "      <td>-6.941407</td>\n",
       "      <td>-0.315222</td>\n",
       "      <td>0.649599</td>\n",
       "    </tr>\n",
       "    <tr>\n",
       "      <th>3</th>\n",
       "      <td>8.354495</td>\n",
       "      <td>-4.097799</td>\n",
       "      <td>1.232996</td>\n",
       "    </tr>\n",
       "    <tr>\n",
       "      <th>4</th>\n",
       "      <td>-2.170428</td>\n",
       "      <td>1.463506</td>\n",
       "      <td>-0.076785</td>\n",
       "    </tr>\n",
       "    <tr>\n",
       "      <th>5</th>\n",
       "      <td>2.109911</td>\n",
       "      <td>1.798867</td>\n",
       "      <td>0.772556</td>\n",
       "    </tr>\n",
       "    <tr>\n",
       "      <th>6</th>\n",
       "      <td>-0.452566</td>\n",
       "      <td>-1.748541</td>\n",
       "      <td>0.043951</td>\n",
       "    </tr>\n",
       "    <tr>\n",
       "      <th>7</th>\n",
       "      <td>5.116129</td>\n",
       "      <td>-6.153756</td>\n",
       "      <td>0.304706</td>\n",
       "    </tr>\n",
       "    <tr>\n",
       "      <th>8</th>\n",
       "      <td>-7.054821</td>\n",
       "      <td>0.788622</td>\n",
       "      <td>-6.648924</td>\n",
       "    </tr>\n",
       "    <tr>\n",
       "      <th>9</th>\n",
       "      <td>-2.567078</td>\n",
       "      <td>-5.441803</td>\n",
       "      <td>-1.983425</td>\n",
       "    </tr>\n",
       "  </tbody>\n",
       "</table>\n",
       "</div>"
      ],
      "text/plain": [
       "        PC1       PC2       PC3\n",
       "0 -3.368971  4.049084  9.756594\n",
       "1  6.974736  9.657043 -4.051267\n",
       "2 -6.941407 -0.315222  0.649599\n",
       "3  8.354495 -4.097799  1.232996\n",
       "4 -2.170428  1.463506 -0.076785\n",
       "5  2.109911  1.798867  0.772556\n",
       "6 -0.452566 -1.748541  0.043951\n",
       "7  5.116129 -6.153756  0.304706\n",
       "8 -7.054821  0.788622 -6.648924\n",
       "9 -2.567078 -5.441803 -1.983425"
      ]
     },
     "execution_count": 4,
     "metadata": {},
     "output_type": "execute_result"
    }
   ],
   "source": [
    "import pandas as pd\n",
    "\n",
    "#input_data = input(\"C:\\Users\\pedro\\OneDrive\\Documentos\\UNIVERSIDAD (IDM)\\Octavo Semestre\\Proyecto de ingenieria\\Nube\\Act1\\CloudComputing_act2\\data\\prueba.csv\")\n",
    "data = pd.read_csv(\"../data/pca_3_componentes_prueba.csv\").drop([\"Bankrupt?\"], axis=1)#(input_data)\n",
    "data_dict = data.to_dict(orient='list')\n",
    "\n",
    "data"
   ]
  },
  {
   "cell_type": "code",
   "execution_count": 5,
   "metadata": {},
   "outputs": [],
   "source": [
    "import json\n",
    "\n",
    "#Formateado para la API:\n",
    "data_json = json.dumps({\"data\": [data_dict]})\n",
    "\n",
    "suri = open(\"uri.json\", \"r\")\n",
    "scoring_uri = json.load(suri)[\"URI\"][0]\n",
    "suri.close()"
   ]
  },
  {
   "cell_type": "code",
   "execution_count": 6,
   "metadata": {},
   "outputs": [
    {
     "name": "stdout",
     "output_type": "stream",
     "text": [
      "[0, 0, 1, 0, 0, 0, 0, 0, 1, 0]\n"
     ]
    },
    {
     "data": {
      "application/vnd.microsoft.datawrangler.viewer.v0+json": {
       "columns": [
        {
         "name": "index",
         "rawType": "int64",
         "type": "integer"
        },
        {
         "name": "PC1",
         "rawType": "float64",
         "type": "float"
        },
        {
         "name": "PC2",
         "rawType": "float64",
         "type": "float"
        },
        {
         "name": "PC3",
         "rawType": "float64",
         "type": "float"
        },
        {
         "name": "Prediction",
         "rawType": "int64",
         "type": "integer"
        }
       ],
       "conversionMethod": "pd.DataFrame",
       "ref": "f84bcffe-3f70-486b-8408-fac626560fe8",
       "rows": [
        [
         "0",
         "-3.3689713297199417",
         "4.049083604692785",
         "9.756593790608555",
         "0"
        ],
        [
         "1",
         "6.974735599488105",
         "9.657042961009198",
         "-4.051267352975012",
         "0"
        ],
        [
         "2",
         "-6.941406777004659",
         "-0.315222001792923",
         "0.6495985487663299",
         "1"
        ],
        [
         "3",
         "8.35449538251875",
         "-4.097799401093425",
         "1.2329958275018595",
         "0"
        ],
        [
         "4",
         "-2.170427685253109",
         "1.4635061027161496",
         "-0.0767845104805652",
         "0"
        ],
        [
         "5",
         "2.109910794697508",
         "1.7988667857294864",
         "0.7725555824642594",
         "0"
        ],
        [
         "6",
         "-0.4525655436399258",
         "-1.7485407382589486",
         "0.0439508694347019",
         "0"
        ],
        [
         "7",
         "5.116128577637021",
         "-6.153755784131136",
         "0.304705749216979",
         "0"
        ],
        [
         "8",
         "-7.0548206968815785",
         "0.7886218946241067",
         "-6.64892372793027",
         "1"
        ],
        [
         "9",
         "-2.5670783218421738",
         "-5.441803423495292",
         "-1.983424776606837",
         "0"
        ]
       ],
       "shape": {
        "columns": 4,
        "rows": 10
       }
      },
      "text/html": [
       "<div>\n",
       "<style scoped>\n",
       "    .dataframe tbody tr th:only-of-type {\n",
       "        vertical-align: middle;\n",
       "    }\n",
       "\n",
       "    .dataframe tbody tr th {\n",
       "        vertical-align: top;\n",
       "    }\n",
       "\n",
       "    .dataframe thead th {\n",
       "        text-align: right;\n",
       "    }\n",
       "</style>\n",
       "<table border=\"1\" class=\"dataframe\">\n",
       "  <thead>\n",
       "    <tr style=\"text-align: right;\">\n",
       "      <th></th>\n",
       "      <th>PC1</th>\n",
       "      <th>PC2</th>\n",
       "      <th>PC3</th>\n",
       "      <th>Prediction</th>\n",
       "    </tr>\n",
       "  </thead>\n",
       "  <tbody>\n",
       "    <tr>\n",
       "      <th>0</th>\n",
       "      <td>-3.368971</td>\n",
       "      <td>4.049084</td>\n",
       "      <td>9.756594</td>\n",
       "      <td>0</td>\n",
       "    </tr>\n",
       "    <tr>\n",
       "      <th>1</th>\n",
       "      <td>6.974736</td>\n",
       "      <td>9.657043</td>\n",
       "      <td>-4.051267</td>\n",
       "      <td>0</td>\n",
       "    </tr>\n",
       "    <tr>\n",
       "      <th>2</th>\n",
       "      <td>-6.941407</td>\n",
       "      <td>-0.315222</td>\n",
       "      <td>0.649599</td>\n",
       "      <td>1</td>\n",
       "    </tr>\n",
       "    <tr>\n",
       "      <th>3</th>\n",
       "      <td>8.354495</td>\n",
       "      <td>-4.097799</td>\n",
       "      <td>1.232996</td>\n",
       "      <td>0</td>\n",
       "    </tr>\n",
       "    <tr>\n",
       "      <th>4</th>\n",
       "      <td>-2.170428</td>\n",
       "      <td>1.463506</td>\n",
       "      <td>-0.076785</td>\n",
       "      <td>0</td>\n",
       "    </tr>\n",
       "    <tr>\n",
       "      <th>5</th>\n",
       "      <td>2.109911</td>\n",
       "      <td>1.798867</td>\n",
       "      <td>0.772556</td>\n",
       "      <td>0</td>\n",
       "    </tr>\n",
       "    <tr>\n",
       "      <th>6</th>\n",
       "      <td>-0.452566</td>\n",
       "      <td>-1.748541</td>\n",
       "      <td>0.043951</td>\n",
       "      <td>0</td>\n",
       "    </tr>\n",
       "    <tr>\n",
       "      <th>7</th>\n",
       "      <td>5.116129</td>\n",
       "      <td>-6.153756</td>\n",
       "      <td>0.304706</td>\n",
       "      <td>0</td>\n",
       "    </tr>\n",
       "    <tr>\n",
       "      <th>8</th>\n",
       "      <td>-7.054821</td>\n",
       "      <td>0.788622</td>\n",
       "      <td>-6.648924</td>\n",
       "      <td>1</td>\n",
       "    </tr>\n",
       "    <tr>\n",
       "      <th>9</th>\n",
       "      <td>-2.567078</td>\n",
       "      <td>-5.441803</td>\n",
       "      <td>-1.983425</td>\n",
       "      <td>0</td>\n",
       "    </tr>\n",
       "  </tbody>\n",
       "</table>\n",
       "</div>"
      ],
      "text/plain": [
       "        PC1       PC2       PC3  Prediction\n",
       "0 -3.368971  4.049084  9.756594           0\n",
       "1  6.974736  9.657043 -4.051267           0\n",
       "2 -6.941407 -0.315222  0.649599           1\n",
       "3  8.354495 -4.097799  1.232996           0\n",
       "4 -2.170428  1.463506 -0.076785           0\n",
       "5  2.109911  1.798867  0.772556           0\n",
       "6 -0.452566 -1.748541  0.043951           0\n",
       "7  5.116129 -6.153756  0.304706           0\n",
       "8 -7.054821  0.788622 -6.648924           1\n",
       "9 -2.567078 -5.441803 -1.983425           0"
      ]
     },
     "metadata": {},
     "output_type": "display_data"
    },
    {
     "name": "stdout",
     "output_type": "stream",
     "text": [
      "[0, 0, 1, 0, 0, 0, 0, 0, 1, 0]\n"
     ]
    }
   ],
   "source": [
    "## La API per-sé:\n",
    "\n",
    "import requests\n",
    "headers = {\"Content-Type\": \"application/json\"}\n",
    "\n",
    "response = requests.post(scoring_uri, data=data_json, headers=headers)\n",
    "\n",
    "if response.status_code == 200:\n",
    "  result = json.loads(response.json())\n",
    "  print(result)\n",
    "  data[\"Prediction\"] = result\n",
    "  display(data)\n",
    "  print(result)\n",
    "\n",
    "else:\n",
    "  print(f\"Error: {response.text}\")"
   ]
  }
 ],
 "metadata": {
  "kernelspec": {
   "display_name": "base",
   "language": "python",
   "name": "python3"
  },
  "language_info": {
   "codemirror_mode": {
    "name": "ipython",
    "version": 3
   },
   "file_extension": ".py",
   "mimetype": "text/x-python",
   "name": "python",
   "nbconvert_exporter": "python",
   "pygments_lexer": "ipython3",
   "version": "3.9.12"
  }
 },
 "nbformat": 4,
 "nbformat_minor": 2
}
