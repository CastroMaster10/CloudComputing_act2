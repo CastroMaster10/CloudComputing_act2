{
 "cells": [
  {
   "cell_type": "markdown",
   "metadata": {},
   "source": [
    "## Entorno"
   ]
  },
  {
   "cell_type": "code",
   "execution_count": 25,
   "metadata": {},
   "outputs": [
    {
     "name": "stdout",
     "output_type": "stream",
     "text": [
      "pip 24.0 from C:\\Users\\aoran\\Desktop\\Clases\\Octavo\\Proyecto algo\\Cloud\\Act 2\\venv\\Lib\\site-packages\\pip (python 3.11)\n",
      "\n"
     ]
    }
   ],
   "source": [
    "!pip --version"
   ]
  },
  {
   "cell_type": "code",
   "execution_count": 26,
   "metadata": {},
   "outputs": [
    {
     "name": "stdout",
     "output_type": "stream",
     "text": [
      "Requirement already satisfied: azureml-sdk in c:\\users\\aoran\\desktop\\clases\\octavo\\proyecto algo\\cloud\\act 2\\venv\\lib\\site-packages (1.59.0)\n",
      "Requirement already satisfied: azureml-core~=1.59.0 in c:\\users\\aoran\\desktop\\clases\\octavo\\proyecto algo\\cloud\\act 2\\venv\\lib\\site-packages (from azureml-sdk) (1.59.0.post2)\n",
      "Requirement already satisfied: azureml-dataset-runtime~=1.59.0 in c:\\users\\aoran\\desktop\\clases\\octavo\\proyecto algo\\cloud\\act 2\\venv\\lib\\site-packages (from azureml-dataset-runtime[fuse]~=1.59.0->azureml-sdk) (1.59.0)\n",
      "Requirement already satisfied: azureml-train-core~=1.59.0 in c:\\users\\aoran\\desktop\\clases\\octavo\\proyecto algo\\cloud\\act 2\\venv\\lib\\site-packages (from azureml-sdk) (1.59.0)\n",
      "Requirement already satisfied: azureml-train-automl-client~=1.59.0 in c:\\users\\aoran\\desktop\\clases\\octavo\\proyecto algo\\cloud\\act 2\\venv\\lib\\site-packages (from azureml-sdk) (1.59.0)\n",
      "Requirement already satisfied: azureml-pipeline~=1.59.0 in c:\\users\\aoran\\desktop\\clases\\octavo\\proyecto algo\\cloud\\act 2\\venv\\lib\\site-packages (from azureml-sdk) (1.59.0)\n",
      "Requirement already satisfied: pytz in c:\\users\\aoran\\desktop\\clases\\octavo\\proyecto algo\\cloud\\act 2\\venv\\lib\\site-packages (from azureml-core~=1.59.0->azureml-sdk) (2025.2)\n",
      "Requirement already satisfied: backports.tempfile in c:\\users\\aoran\\desktop\\clases\\octavo\\proyecto algo\\cloud\\act 2\\venv\\lib\\site-packages (from azureml-core~=1.59.0->azureml-sdk) (1.0)\n",
      "Requirement already satisfied: pathspec<1.0.0 in c:\\users\\aoran\\desktop\\clases\\octavo\\proyecto algo\\cloud\\act 2\\venv\\lib\\site-packages (from azureml-core~=1.59.0->azureml-sdk) (0.12.1)\n",
      "Requirement already satisfied: requests<3.0.0,>=2.19.1 in c:\\users\\aoran\\desktop\\clases\\octavo\\proyecto algo\\cloud\\act 2\\venv\\lib\\site-packages (from requests[socks]<3.0.0,>=2.19.1->azureml-core~=1.59.0->azureml-sdk) (2.32.3)\n",
      "Requirement already satisfied: msal<2.0.0,>=1.15.0 in c:\\users\\aoran\\desktop\\clases\\octavo\\proyecto algo\\cloud\\act 2\\venv\\lib\\site-packages (from azureml-core~=1.59.0->azureml-sdk) (1.32.0)\n",
      "Requirement already satisfied: msal-extensions<=2.0.0,>=0.3.0 in c:\\users\\aoran\\desktop\\clases\\octavo\\proyecto algo\\cloud\\act 2\\venv\\lib\\site-packages (from azureml-core~=1.59.0->azureml-sdk) (1.3.1)\n",
      "Requirement already satisfied: knack<0.13.0 in c:\\users\\aoran\\desktop\\clases\\octavo\\proyecto algo\\cloud\\act 2\\venv\\lib\\site-packages (from azureml-core~=1.59.0->azureml-sdk) (0.12.0)\n",
      "Requirement already satisfied: azure-core<2.0.0 in c:\\users\\aoran\\desktop\\clases\\octavo\\proyecto algo\\cloud\\act 2\\venv\\lib\\site-packages (from azureml-core~=1.59.0->azureml-sdk) (1.32.0)\n",
      "Requirement already satisfied: pkginfo in c:\\users\\aoran\\desktop\\clases\\octavo\\proyecto algo\\cloud\\act 2\\venv\\lib\\site-packages (from azureml-core~=1.59.0->azureml-sdk) (1.12.1.2)\n",
      "Requirement already satisfied: argcomplete<4 in c:\\users\\aoran\\desktop\\clases\\octavo\\proyecto algo\\cloud\\act 2\\venv\\lib\\site-packages (from azureml-core~=1.59.0->azureml-sdk) (3.6.1)\n",
      "Requirement already satisfied: humanfriendly<11.0,>=4.7 in c:\\users\\aoran\\desktop\\clases\\octavo\\proyecto algo\\cloud\\act 2\\venv\\lib\\site-packages (from azureml-core~=1.59.0->azureml-sdk) (10.0)\n",
      "Requirement already satisfied: paramiko<4.0.0,>=2.0.8 in c:\\users\\aoran\\desktop\\clases\\octavo\\proyecto algo\\cloud\\act 2\\venv\\lib\\site-packages (from azureml-core~=1.59.0->azureml-sdk) (3.5.1)\n",
      "Requirement already satisfied: azure-mgmt-resource<=24.0.0,>=15.0.0 in c:\\users\\aoran\\desktop\\clases\\octavo\\proyecto algo\\cloud\\act 2\\venv\\lib\\site-packages (from azureml-core~=1.59.0->azureml-sdk) (23.3.0)\n",
      "Requirement already satisfied: azure-mgmt-containerregistry<11,>=8.2.0 in c:\\users\\aoran\\desktop\\clases\\octavo\\proyecto algo\\cloud\\act 2\\venv\\lib\\site-packages (from azureml-core~=1.59.0->azureml-sdk) (10.3.0)\n",
      "Requirement already satisfied: azure-mgmt-storage<=22.0.0,>=16.0.0 in c:\\users\\aoran\\desktop\\clases\\octavo\\proyecto algo\\cloud\\act 2\\venv\\lib\\site-packages (from azureml-core~=1.59.0->azureml-sdk) (22.0.0)\n",
      "Requirement already satisfied: azure-mgmt-keyvault<11.0.0,>=0.40.0 in c:\\users\\aoran\\desktop\\clases\\octavo\\proyecto algo\\cloud\\act 2\\venv\\lib\\site-packages (from azureml-core~=1.59.0->azureml-sdk) (10.3.1)\n",
      "Requirement already satisfied: azure-mgmt-authorization<5,>=0.40.0 in c:\\users\\aoran\\desktop\\clases\\octavo\\proyecto algo\\cloud\\act 2\\venv\\lib\\site-packages (from azureml-core~=1.59.0->azureml-sdk) (4.0.0)\n",
      "Requirement already satisfied: azure-mgmt-network<=29.0.0 in c:\\users\\aoran\\desktop\\clases\\octavo\\proyecto algo\\cloud\\act 2\\venv\\lib\\site-packages (from azureml-core~=1.59.0->azureml-sdk) (28.1.0)\n",
      "Requirement already satisfied: azure-graphrbac<1.0.0,>=0.40.0 in c:\\users\\aoran\\desktop\\clases\\octavo\\proyecto algo\\cloud\\act 2\\venv\\lib\\site-packages (from azureml-core~=1.59.0->azureml-sdk) (0.61.2)\n",
      "Requirement already satisfied: azure-common<2.0.0,>=1.1.12 in c:\\users\\aoran\\desktop\\clases\\octavo\\proyecto algo\\cloud\\act 2\\venv\\lib\\site-packages (from azureml-core~=1.59.0->azureml-sdk) (1.1.28)\n",
      "Requirement already satisfied: msrest<=0.7.1,>=0.5.1 in c:\\users\\aoran\\desktop\\clases\\octavo\\proyecto algo\\cloud\\act 2\\venv\\lib\\site-packages (from azureml-core~=1.59.0->azureml-sdk) (0.7.1)\n",
      "Requirement already satisfied: msrestazure<=0.7,>=0.4.33 in c:\\users\\aoran\\desktop\\clases\\octavo\\proyecto algo\\cloud\\act 2\\venv\\lib\\site-packages (from azureml-core~=1.59.0->azureml-sdk) (0.6.4.post1)\n",
      "Requirement already satisfied: urllib3<3.0.0,>1.26.17 in c:\\users\\aoran\\desktop\\clases\\octavo\\proyecto algo\\cloud\\act 2\\venv\\lib\\site-packages (from azureml-core~=1.59.0->azureml-sdk) (2.3.0)\n",
      "Requirement already satisfied: packaging<=25.0,>=20.0 in c:\\users\\aoran\\desktop\\clases\\octavo\\proyecto algo\\cloud\\act 2\\venv\\lib\\site-packages (from azureml-core~=1.59.0->azureml-sdk) (24.2)\n",
      "Requirement already satisfied: python-dateutil<3.0.0,>=2.7.3 in c:\\users\\aoran\\desktop\\clases\\octavo\\proyecto algo\\cloud\\act 2\\venv\\lib\\site-packages (from azureml-core~=1.59.0->azureml-sdk) (2.9.0.post0)\n",
      "Requirement already satisfied: ndg-httpsclient<=0.5.1 in c:\\users\\aoran\\desktop\\clases\\octavo\\proyecto algo\\cloud\\act 2\\venv\\lib\\site-packages (from azureml-core~=1.59.0->azureml-sdk) (0.5.1)\n",
      "Requirement already satisfied: SecretStorage<4.0.0 in c:\\users\\aoran\\desktop\\clases\\octavo\\proyecto algo\\cloud\\act 2\\venv\\lib\\site-packages (from azureml-core~=1.59.0->azureml-sdk) (3.3.3)\n",
      "Requirement already satisfied: jsonpickle<5.0.0 in c:\\users\\aoran\\desktop\\clases\\octavo\\proyecto algo\\cloud\\act 2\\venv\\lib\\site-packages (from azureml-core~=1.59.0->azureml-sdk) (4.0.5)\n",
      "Requirement already satisfied: contextlib2<22.0.0 in c:\\users\\aoran\\desktop\\clases\\octavo\\proyecto algo\\cloud\\act 2\\venv\\lib\\site-packages (from azureml-core~=1.59.0->azureml-sdk) (21.6.0)\n",
      "Requirement already satisfied: docker<8.0.0 in c:\\users\\aoran\\desktop\\clases\\octavo\\proyecto algo\\cloud\\act 2\\venv\\lib\\site-packages (from azureml-core~=1.59.0->azureml-sdk) (7.1.0)\n",
      "Requirement already satisfied: PyJWT<3.0.0 in c:\\users\\aoran\\desktop\\clases\\octavo\\proyecto algo\\cloud\\act 2\\venv\\lib\\site-packages (from azureml-core~=1.59.0->azureml-sdk) (2.10.1)\n",
      "Requirement already satisfied: adal<=1.2.7,>=1.2.0 in c:\\users\\aoran\\desktop\\clases\\octavo\\proyecto algo\\cloud\\act 2\\venv\\lib\\site-packages (from azureml-core~=1.59.0->azureml-sdk) (1.2.7)\n",
      "Requirement already satisfied: pyopenssl<25.0.0 in c:\\users\\aoran\\desktop\\clases\\octavo\\proyecto algo\\cloud\\act 2\\venv\\lib\\site-packages (from azureml-core~=1.59.0->azureml-sdk) (24.3.0)\n",
      "Requirement already satisfied: jmespath<2.0.0 in c:\\users\\aoran\\desktop\\clases\\octavo\\proyecto algo\\cloud\\act 2\\venv\\lib\\site-packages (from azureml-core~=1.59.0->azureml-sdk) (1.0.1)\n",
      "Requirement already satisfied: azureml-dataprep<5.2.0a,>=5.1.0a in c:\\users\\aoran\\desktop\\clases\\octavo\\proyecto algo\\cloud\\act 2\\venv\\lib\\site-packages (from azureml-dataset-runtime~=1.59.0->azureml-dataset-runtime[fuse]~=1.59.0->azureml-sdk) (5.1.6)\n",
      "Requirement already satisfied: pyarrow>=0.17.0 in c:\\users\\aoran\\desktop\\clases\\octavo\\proyecto algo\\cloud\\act 2\\venv\\lib\\site-packages (from azureml-dataset-runtime~=1.59.0->azureml-dataset-runtime[fuse]~=1.59.0->azureml-sdk) (19.0.1)\n",
      "Requirement already satisfied: numpy!=1.19.4,<1.24 in c:\\users\\aoran\\desktop\\clases\\octavo\\proyecto algo\\cloud\\act 2\\venv\\lib\\site-packages (from azureml-dataset-runtime~=1.59.0->azureml-dataset-runtime[fuse]~=1.59.0->azureml-sdk) (1.23.5)\n",
      "Requirement already satisfied: fusepy<4.0.0,>=3.0.1 in c:\\users\\aoran\\desktop\\clases\\octavo\\proyecto algo\\cloud\\act 2\\venv\\lib\\site-packages (from azureml-dataset-runtime[fuse]~=1.59.0->azureml-sdk) (3.0.1)\n",
      "Requirement already satisfied: azureml-pipeline-core~=1.59.0 in c:\\users\\aoran\\desktop\\clases\\octavo\\proyecto algo\\cloud\\act 2\\venv\\lib\\site-packages (from azureml-pipeline~=1.59.0->azureml-sdk) (1.59.0)\n",
      "Requirement already satisfied: azureml-pipeline-steps~=1.59.0 in c:\\users\\aoran\\desktop\\clases\\octavo\\proyecto algo\\cloud\\act 2\\venv\\lib\\site-packages (from azureml-pipeline~=1.59.0->azureml-sdk) (1.59.0)\n",
      "Requirement already satisfied: azureml-automl-core~=1.59.0 in c:\\users\\aoran\\desktop\\clases\\octavo\\proyecto algo\\cloud\\act 2\\venv\\lib\\site-packages (from azureml-train-automl-client~=1.59.0->azureml-sdk) (1.59.0)\n",
      "Requirement already satisfied: azureml-telemetry~=1.59.0 in c:\\users\\aoran\\desktop\\clases\\octavo\\proyecto algo\\cloud\\act 2\\venv\\lib\\site-packages (from azureml-train-automl-client~=1.59.0->azureml-sdk) (1.59.0)\n",
      "Requirement already satisfied: azureml-train-restclients-hyperdrive~=1.59.0 in c:\\users\\aoran\\desktop\\clases\\octavo\\proyecto algo\\cloud\\act 2\\venv\\lib\\site-packages (from azureml-train-core~=1.59.0->azureml-sdk) (1.59.0)\n",
      "Requirement already satisfied: cryptography>=1.1.0 in c:\\users\\aoran\\desktop\\clases\\octavo\\proyecto algo\\cloud\\act 2\\venv\\lib\\site-packages (from adal<=1.2.7,>=1.2.0->azureml-core~=1.59.0->azureml-sdk) (44.0.2)\n",
      "Requirement already satisfied: six>=1.11.0 in c:\\users\\aoran\\desktop\\clases\\octavo\\proyecto algo\\cloud\\act 2\\venv\\lib\\site-packages (from azure-core<2.0.0->azureml-core~=1.59.0->azureml-sdk) (1.17.0)\n",
      "Requirement already satisfied: typing-extensions>=4.6.0 in c:\\users\\aoran\\desktop\\clases\\octavo\\proyecto algo\\cloud\\act 2\\venv\\lib\\site-packages (from azure-core<2.0.0->azureml-core~=1.59.0->azureml-sdk) (4.13.0)\n",
      "Requirement already satisfied: isodate<1.0.0,>=0.6.1 in c:\\users\\aoran\\desktop\\clases\\octavo\\proyecto algo\\cloud\\act 2\\venv\\lib\\site-packages (from azure-mgmt-authorization<5,>=0.40.0->azureml-core~=1.59.0->azureml-sdk) (0.7.2)\n",
      "Requirement already satisfied: azure-mgmt-core<2.0.0,>=1.3.2 in c:\\users\\aoran\\desktop\\clases\\octavo\\proyecto algo\\cloud\\act 2\\venv\\lib\\site-packages (from azure-mgmt-authorization<5,>=0.40.0->azureml-core~=1.59.0->azureml-sdk) (1.5.0)\n",
      "Requirement already satisfied: importlib-metadata<=8.2.0 in c:\\users\\aoran\\desktop\\clases\\octavo\\proyecto algo\\cloud\\act 2\\venv\\lib\\site-packages (from azureml-automl-core~=1.59.0->azureml-train-automl-client~=1.59.0->azureml-sdk) (8.2.0)\n",
      "Requirement already satisfied: importlib-resources<=6.4.0 in c:\\users\\aoran\\desktop\\clases\\octavo\\proyecto algo\\cloud\\act 2\\venv\\lib\\site-packages (from azureml-automl-core~=1.59.0->azureml-train-automl-client~=1.59.0->azureml-sdk) (6.4.0)\n",
      "Requirement already satisfied: azureml-dataprep-native<42.0.0,>=41.0.0 in c:\\users\\aoran\\desktop\\clases\\octavo\\proyecto algo\\cloud\\act 2\\venv\\lib\\site-packages (from azureml-dataprep<5.2.0a,>=5.1.0a->azureml-dataset-runtime~=1.59.0->azureml-dataset-runtime[fuse]~=1.59.0->azureml-sdk) (41.0.0)\n",
      "Requirement already satisfied: azureml-dataprep-rslex~=2.22.2dev0 in c:\\users\\aoran\\desktop\\clases\\octavo\\proyecto algo\\cloud\\act 2\\venv\\lib\\site-packages (from azureml-dataprep<5.2.0a,>=5.1.0a->azureml-dataset-runtime~=1.59.0->azureml-dataset-runtime[fuse]~=1.59.0->azureml-sdk) (2.22.5)\n",
      "Requirement already satisfied: cloudpickle<3.0.0,>=1.1.0 in c:\\users\\aoran\\desktop\\clases\\octavo\\proyecto algo\\cloud\\act 2\\venv\\lib\\site-packages (from azureml-dataprep<5.2.0a,>=5.1.0a->azureml-dataset-runtime~=1.59.0->azureml-dataset-runtime[fuse]~=1.59.0->azureml-sdk) (2.2.1)\n",
      "Requirement already satisfied: azure-identity>=1.7.0 in c:\\users\\aoran\\desktop\\clases\\octavo\\proyecto algo\\cloud\\act 2\\venv\\lib\\site-packages (from azureml-dataprep<5.2.0a,>=5.1.0a->azureml-dataset-runtime~=1.59.0->azureml-dataset-runtime[fuse]~=1.59.0->azureml-sdk) (1.21.0)\n",
      "Requirement already satisfied: jsonschema in c:\\users\\aoran\\desktop\\clases\\octavo\\proyecto algo\\cloud\\act 2\\venv\\lib\\site-packages (from azureml-dataprep<5.2.0a,>=5.1.0a->azureml-dataset-runtime~=1.59.0->azureml-dataset-runtime[fuse]~=1.59.0->azureml-sdk) (4.23.0)\n",
      "Requirement already satisfied: pyyaml<7.0.0,>=5.1.0 in c:\\users\\aoran\\desktop\\clases\\octavo\\proyecto algo\\cloud\\act 2\\venv\\lib\\site-packages (from azureml-dataprep<5.2.0a,>=5.1.0a->azureml-dataset-runtime~=1.59.0->azureml-dataset-runtime[fuse]~=1.59.0->azureml-sdk) (6.0.2)\n",
      "Requirement already satisfied: applicationinsights in c:\\users\\aoran\\desktop\\clases\\octavo\\proyecto algo\\cloud\\act 2\\venv\\lib\\site-packages (from azureml-telemetry~=1.59.0->azureml-train-automl-client~=1.59.0->azureml-sdk) (0.11.10)\n",
      "Requirement already satisfied: pywin32>=304 in c:\\users\\aoran\\desktop\\clases\\octavo\\proyecto algo\\cloud\\act 2\\venv\\lib\\site-packages (from docker<8.0.0->azureml-core~=1.59.0->azureml-sdk) (310)\n",
      "Requirement already satisfied: pyreadline3 in c:\\users\\aoran\\desktop\\clases\\octavo\\proyecto algo\\cloud\\act 2\\venv\\lib\\site-packages (from humanfriendly<11.0,>=4.7->azureml-core~=1.59.0->azureml-sdk) (3.5.4)\n",
      "Requirement already satisfied: pygments in c:\\users\\aoran\\desktop\\clases\\octavo\\proyecto algo\\cloud\\act 2\\venv\\lib\\site-packages (from knack<0.13.0->azureml-core~=1.59.0->azureml-sdk) (2.19.1)\n",
      "Requirement already satisfied: tabulate in c:\\users\\aoran\\desktop\\clases\\octavo\\proyecto algo\\cloud\\act 2\\venv\\lib\\site-packages (from knack<0.13.0->azureml-core~=1.59.0->azureml-sdk) (0.9.0)\n",
      "Requirement already satisfied: certifi>=2017.4.17 in c:\\users\\aoran\\desktop\\clases\\octavo\\proyecto algo\\cloud\\act 2\\venv\\lib\\site-packages (from msrest<=0.7.1,>=0.5.1->azureml-core~=1.59.0->azureml-sdk) (2025.1.31)\n",
      "Requirement already satisfied: requests-oauthlib>=0.5.0 in c:\\users\\aoran\\desktop\\clases\\octavo\\proyecto algo\\cloud\\act 2\\venv\\lib\\site-packages (from msrest<=0.7.1,>=0.5.1->azureml-core~=1.59.0->azureml-sdk) (2.0.0)\n",
      "Requirement already satisfied: pyasn1>=0.1.1 in c:\\users\\aoran\\desktop\\clases\\octavo\\proyecto algo\\cloud\\act 2\\venv\\lib\\site-packages (from ndg-httpsclient<=0.5.1->azureml-core~=1.59.0->azureml-sdk) (0.6.1)\n",
      "Requirement already satisfied: bcrypt>=3.2 in c:\\users\\aoran\\desktop\\clases\\octavo\\proyecto algo\\cloud\\act 2\\venv\\lib\\site-packages (from paramiko<4.0.0,>=2.0.8->azureml-core~=1.59.0->azureml-sdk) (4.3.0)\n",
      "Requirement already satisfied: pynacl>=1.5 in c:\\users\\aoran\\desktop\\clases\\octavo\\proyecto algo\\cloud\\act 2\\venv\\lib\\site-packages (from paramiko<4.0.0,>=2.0.8->azureml-core~=1.59.0->azureml-sdk) (1.5.0)\n",
      "Requirement already satisfied: charset-normalizer<4,>=2 in c:\\users\\aoran\\desktop\\clases\\octavo\\proyecto algo\\cloud\\act 2\\venv\\lib\\site-packages (from requests<3.0.0,>=2.19.1->requests[socks]<3.0.0,>=2.19.1->azureml-core~=1.59.0->azureml-sdk) (3.4.1)\n",
      "Requirement already satisfied: idna<4,>=2.5 in c:\\users\\aoran\\desktop\\clases\\octavo\\proyecto algo\\cloud\\act 2\\venv\\lib\\site-packages (from requests<3.0.0,>=2.19.1->requests[socks]<3.0.0,>=2.19.1->azureml-core~=1.59.0->azureml-sdk) (3.10)\n",
      "Requirement already satisfied: PySocks!=1.5.7,>=1.5.6 in c:\\users\\aoran\\desktop\\clases\\octavo\\proyecto algo\\cloud\\act 2\\venv\\lib\\site-packages (from requests[socks]<3.0.0,>=2.19.1->azureml-core~=1.59.0->azureml-sdk) (1.7.1)\n",
      "Requirement already satisfied: jeepney>=0.6 in c:\\users\\aoran\\desktop\\clases\\octavo\\proyecto algo\\cloud\\act 2\\venv\\lib\\site-packages (from SecretStorage<4.0.0->azureml-core~=1.59.0->azureml-sdk) (0.9.0)\n",
      "Requirement already satisfied: backports.weakref in c:\\users\\aoran\\desktop\\clases\\octavo\\proyecto algo\\cloud\\act 2\\venv\\lib\\site-packages (from backports.tempfile->azureml-core~=1.59.0->azureml-sdk) (1.0.post1)\n",
      "Requirement already satisfied: cffi>=1.12 in c:\\users\\aoran\\desktop\\clases\\octavo\\proyecto algo\\cloud\\act 2\\venv\\lib\\site-packages (from cryptography>=1.1.0->adal<=1.2.7,>=1.2.0->azureml-core~=1.59.0->azureml-sdk) (1.17.1)\n",
      "Requirement already satisfied: zipp>=0.5 in c:\\users\\aoran\\desktop\\clases\\octavo\\proyecto algo\\cloud\\act 2\\venv\\lib\\site-packages (from importlib-metadata<=8.2.0->azureml-automl-core~=1.59.0->azureml-train-automl-client~=1.59.0->azureml-sdk) (3.21.0)\n",
      "Requirement already satisfied: oauthlib>=3.0.0 in c:\\users\\aoran\\desktop\\clases\\octavo\\proyecto algo\\cloud\\act 2\\venv\\lib\\site-packages (from requests-oauthlib>=0.5.0->msrest<=0.7.1,>=0.5.1->azureml-core~=1.59.0->azureml-sdk) (3.2.2)\n",
      "Requirement already satisfied: attrs>=22.2.0 in c:\\users\\aoran\\desktop\\clases\\octavo\\proyecto algo\\cloud\\act 2\\venv\\lib\\site-packages (from jsonschema->azureml-dataprep<5.2.0a,>=5.1.0a->azureml-dataset-runtime~=1.59.0->azureml-dataset-runtime[fuse]~=1.59.0->azureml-sdk) (25.3.0)\n",
      "Requirement already satisfied: jsonschema-specifications>=2023.03.6 in c:\\users\\aoran\\desktop\\clases\\octavo\\proyecto algo\\cloud\\act 2\\venv\\lib\\site-packages (from jsonschema->azureml-dataprep<5.2.0a,>=5.1.0a->azureml-dataset-runtime~=1.59.0->azureml-dataset-runtime[fuse]~=1.59.0->azureml-sdk) (2024.10.1)\n",
      "Requirement already satisfied: referencing>=0.28.4 in c:\\users\\aoran\\desktop\\clases\\octavo\\proyecto algo\\cloud\\act 2\\venv\\lib\\site-packages (from jsonschema->azureml-dataprep<5.2.0a,>=5.1.0a->azureml-dataset-runtime~=1.59.0->azureml-dataset-runtime[fuse]~=1.59.0->azureml-sdk) (0.36.2)\n",
      "Requirement already satisfied: rpds-py>=0.7.1 in c:\\users\\aoran\\desktop\\clases\\octavo\\proyecto algo\\cloud\\act 2\\venv\\lib\\site-packages (from jsonschema->azureml-dataprep<5.2.0a,>=5.1.0a->azureml-dataset-runtime~=1.59.0->azureml-dataset-runtime[fuse]~=1.59.0->azureml-sdk) (0.24.0)\n",
      "Requirement already satisfied: pycparser in c:\\users\\aoran\\desktop\\clases\\octavo\\proyecto algo\\cloud\\act 2\\venv\\lib\\site-packages (from cffi>=1.12->cryptography>=1.1.0->adal<=1.2.7,>=1.2.0->azureml-core~=1.59.0->azureml-sdk) (2.22)\n"
     ]
    },
    {
     "name": "stderr",
     "output_type": "stream",
     "text": [
      "\n",
      "[notice] A new release of pip is available: 24.0 -> 25.0.1\n",
      "[notice] To update, run: python.exe -m pip install --upgrade pip\n"
     ]
    }
   ],
   "source": [
    "!pip install azureml-sdk"
   ]
  },
  {
   "cell_type": "code",
   "execution_count": 27,
   "metadata": {},
   "outputs": [
    {
     "name": "stdout",
     "output_type": "stream",
     "text": [
      "Requirement already satisfied: pandas in c:\\users\\aoran\\desktop\\clases\\octavo\\proyecto algo\\cloud\\act 2\\venv\\lib\\site-packages (2.2.3)\n",
      "Requirement already satisfied: numpy>=1.23.2 in c:\\users\\aoran\\desktop\\clases\\octavo\\proyecto algo\\cloud\\act 2\\venv\\lib\\site-packages (from pandas) (1.23.5)\n",
      "Requirement already satisfied: python-dateutil>=2.8.2 in c:\\users\\aoran\\desktop\\clases\\octavo\\proyecto algo\\cloud\\act 2\\venv\\lib\\site-packages (from pandas) (2.9.0.post0)\n",
      "Requirement already satisfied: pytz>=2020.1 in c:\\users\\aoran\\desktop\\clases\\octavo\\proyecto algo\\cloud\\act 2\\venv\\lib\\site-packages (from pandas) (2025.2)\n",
      "Requirement already satisfied: tzdata>=2022.7 in c:\\users\\aoran\\desktop\\clases\\octavo\\proyecto algo\\cloud\\act 2\\venv\\lib\\site-packages (from pandas) (2025.2)\n",
      "Requirement already satisfied: six>=1.5 in c:\\users\\aoran\\desktop\\clases\\octavo\\proyecto algo\\cloud\\act 2\\venv\\lib\\site-packages (from python-dateutil>=2.8.2->pandas) (1.17.0)\n"
     ]
    },
    {
     "name": "stderr",
     "output_type": "stream",
     "text": [
      "\n",
      "[notice] A new release of pip is available: 24.0 -> 25.0.1\n",
      "[notice] To update, run: python.exe -m pip install --upgrade pip\n"
     ]
    },
    {
     "name": "stdout",
     "output_type": "stream",
     "text": [
      "^C\n"
     ]
    },
    {
     "name": "stdout",
     "output_type": "stream",
     "text": [
      "Requirement already satisfied: scikit-learn in c:\\users\\aoran\\desktop\\clases\\octavo\\proyecto algo\\cloud\\act 2\\venv\\lib\\site-packages (1.6.1)\n",
      "Requirement already satisfied: numpy>=1.19.5 in c:\\users\\aoran\\desktop\\clases\\octavo\\proyecto algo\\cloud\\act 2\\venv\\lib\\site-packages (from scikit-learn) (1.23.5)\n",
      "Requirement already satisfied: scipy>=1.6.0 in c:\\users\\aoran\\desktop\\clases\\octavo\\proyecto algo\\cloud\\act 2\\venv\\lib\\site-packages (from scikit-learn) (1.15.2)\n",
      "Requirement already satisfied: joblib>=1.2.0 in c:\\users\\aoran\\desktop\\clases\\octavo\\proyecto algo\\cloud\\act 2\\venv\\lib\\site-packages (from scikit-learn) (1.4.2)\n",
      "Requirement already satisfied: threadpoolctl>=3.1.0 in c:\\users\\aoran\\desktop\\clases\\octavo\\proyecto algo\\cloud\\act 2\\venv\\lib\\site-packages (from scikit-learn) (3.6.0)\n"
     ]
    },
    {
     "name": "stderr",
     "output_type": "stream",
     "text": [
      "\n",
      "[notice] A new release of pip is available: 24.0 -> 25.0.1\n",
      "[notice] To update, run: python.exe -m pip install --upgrade pip\n"
     ]
    }
   ],
   "source": [
    "!pip install pandas\n",
    "!pip install scikit-learn"
   ]
  },
  {
   "cell_type": "markdown",
   "metadata": {},
   "source": [
    "# Despliegue en la nube"
   ]
  },
  {
   "cell_type": "code",
   "execution_count": null,
   "metadata": {},
   "outputs": [
    {
     "name": "stdout",
     "output_type": "stream",
     "text": [
      "Deploying KeyVault with name actividakeyvault3489cd54.\n",
      "Deploying AppInsights with name actividainsightsc401386a.\n",
      "Deployed AppInsights with name actividainsightsc401386a. Took 8.57 seconds.\n",
      "Deploying StorageAccount with name actividastorage8d0086b75.\n",
      "Deployed KeyVault with name actividakeyvault3489cd54. Took 25.31 seconds.\n",
      "Deploying Workspace with name Actividad_2.\n",
      "Deployed StorageAccount with name actividastorage8d0086b75. Took 30.45 seconds.\n",
      "Deployed Workspace with name Actividad_2. Took 40.78 seconds.\n"
     ]
    }
   ],
   "source": [
    "from azureml.core import Workspace\n",
    "\n",
    "ws = Workspace.create(name=\"Actividad_2\",\n",
    "                      subscription_id = \"id\",\n",
    "                      resource_group = \"__hw2__\",\n",
    "                      location = \"centralindia\") #centralindia"
   ]
  },
  {
   "cell_type": "code",
   "execution_count": 40,
   "metadata": {},
   "outputs": [
    {
     "name": "stdout",
     "output_type": "stream",
     "text": [
      "Registering model modelo\n"
     ]
    }
   ],
   "source": [
    "from azureml.core.model import Model\n",
    "\n",
    "registered_model = Model.register(model_path=\"model.pkl\",\n",
    "                                  model_name=\"modelo\",\n",
    "                                  workspace=ws)"
   ]
  },
  {
   "cell_type": "code",
   "execution_count": 41,
   "metadata": {},
   "outputs": [],
   "source": [
    "from azureml.core.environment import Environment\n",
    "virtual_env = Environment(\"env-4-housing\")\n",
    "\n",
    "from azureml.core.conda_dependencies import CondaDependencies\n",
    "virtual_env.python.conda_dependencies = CondaDependencies.create(conda_packages=[\n",
    "    'pandas',\n",
    "    'scikit-learn'\n",
    "    ])"
   ]
  },
  {
   "cell_type": "code",
   "execution_count": 42,
   "metadata": {},
   "outputs": [],
   "source": [
    "import json\n",
    "\n",
    "umb = open(\"umbral.json\", \"r\")\n",
    "umb = json.load(umb)\n",
    "umbral = umb[\"umbral\"][0]\n",
    "\n",
    "scorepy = f\"\"\"\n",
    "import json\n",
    "import joblib\n",
    "import numpy as np\n",
    "import pandas as pd\n",
    "from azureml.core.model import Model\n",
    "\n",
    "def init():\n",
    "  global model\n",
    "  model_path = Model.get_model_path('modelo')\n",
    "  model = joblib.load(model_path)\n",
    "\n",
    "def run(raw_data):\n",
    "  try: ## Try la predicción.\n",
    "    data = json.loads(raw_data)['data'][0]\n",
    "    data = pd.DataFrame(data)\n",
    "\n",
    "\n",
    "    result = model.predict(data_dummies).tolist()\n",
    "    result_sigmoid = sigmoid(result)\n",
    "    umbral = {umbral}\n",
    "    result_finals = [1 if x > umbral else 0 for x in result_sigmoid]\n",
    "\n",
    "    return json.dumps(result_finals)\n",
    "  except Exception as e:\n",
    "    return json.dumps(str(e))\n",
    "\"\"\"\n",
    "\n",
    "file_score = open(\"score.py\", \"w\")\n",
    "file_score.write(scorepy)\n",
    "file_score.close()"
   ]
  },
  {
   "cell_type": "code",
   "execution_count": 48,
   "metadata": {},
   "outputs": [
    {
     "name": "stderr",
     "output_type": "stream",
     "text": [
      "C:\\Users\\aoran\\AppData\\Local\\Temp\\ipykernel_9232\\950746086.py:10: FutureWarning: azureml.core.model:\n",
      "To leverage new model deployment capabilities, AzureML recommends using CLI/SDK v2 to deploy models as online endpoint, \n",
      "please refer to respective documentations \n",
      "https://docs.microsoft.com/azure/machine-learning/how-to-deploy-managed-online-endpoints /\n",
      "https://docs.microsoft.com/azure/machine-learning/how-to-attach-kubernetes-anywhere \n",
      "For more information on migration, see https://aka.ms/acimoemigration \n",
      "To disable CLI/SDK v1 deprecation warning set AZUREML_LOG_DEPRECATION_WARNING_ENABLED to 'False'\n",
      "  service = Model.deploy(workspace=ws,\n"
     ]
    }
   ],
   "source": [
    "from azureml.core.model import InferenceConfig\n",
    "from azureml.core.webservice import AciWebservice\n",
    "\n",
    "inference_config = InferenceConfig(\n",
    "                                environment=virtual_env,\n",
    "                                entry_script=\"score.py\",\n",
    "                                )\n",
    "aci_config = AciWebservice.deploy_configuration(cpu_cores=2, memory_gb=6)\n",
    "\n",
    "service = Model.deploy(workspace=ws,\n",
    "                       name='bankrupcy',\n",
    "                       models=[registered_model],\n",
    "                       inference_config=inference_config,\n",
    "                       deployment_config=aci_config,\n",
    "                       overwrite=True,\n",
    "                       )"
   ]
  },
  {
   "cell_type": "code",
   "execution_count": 49,
   "metadata": {},
   "outputs": [
    {
     "name": "stderr",
     "output_type": "stream",
     "text": [
      "Service deployment polling reached non-successful terminal state, current service state: Unhealthy\n",
      "Operation ID: 04ce4b94-f988-4a62-8914-b69813257f79\n",
      "More information can be found using '.get_logs()'\n",
      "Error:\n",
      "{\n",
      "  \"code\": \"AciDeploymentFailed\",\n",
      "  \"statusCode\": 400,\n",
      "  \"message\": \"Aci Deployment failed with exception: Your scoring file's init() function restarts frequently. You can address the error by increasing the value of memory_gb in deployment_config.\",\n",
      "  \"details\": [\n",
      "    {\n",
      "      \"code\": \"ScoreInitRestart\",\n",
      "      \"message\": \"Your scoring file's init() function restarts frequently. You can address the error by increasing the value of memory_gb in deployment_config.\"\n",
      "    }\n",
      "  ]\n",
      "}\n",
      "\n"
     ]
    },
    {
     "ename": "WebserviceException",
     "evalue": "WebserviceException:\n\tMessage: Service deployment polling reached non-successful terminal state, current service state: Unhealthy\nOperation ID: 04ce4b94-f988-4a62-8914-b69813257f79\nMore information can be found using '.get_logs()'\nError:\n{\n  \"code\": \"AciDeploymentFailed\",\n  \"statusCode\": 400,\n  \"message\": \"Aci Deployment failed with exception: Your scoring file's init() function restarts frequently. You can address the error by increasing the value of memory_gb in deployment_config.\",\n  \"details\": [\n    {\n      \"code\": \"ScoreInitRestart\",\n      \"message\": \"Your scoring file's init() function restarts frequently. You can address the error by increasing the value of memory_gb in deployment_config.\"\n    }\n  ]\n}\n\tInnerException None\n\tErrorResponse \n{\n    \"error\": {\n        \"message\": \"Service deployment polling reached non-successful terminal state, current service state: Unhealthy\\nOperation ID: 04ce4b94-f988-4a62-8914-b69813257f79\\nMore information can be found using '.get_logs()'\\nError:\\n{\\n  \\\"code\\\": \\\"AciDeploymentFailed\\\",\\n  \\\"statusCode\\\": 400,\\n  \\\"message\\\": \\\"Aci Deployment failed with exception: Your scoring file's init() function restarts frequently. You can address the error by increasing the value of memory_gb in deployment_config.\\\",\\n  \\\"details\\\": [\\n    {\\n      \\\"code\\\": \\\"ScoreInitRestart\\\",\\n      \\\"message\\\": \\\"Your scoring file's init() function restarts frequently. You can address the error by increasing the value of memory_gb in deployment_config.\\\"\\n    }\\n  ]\\n}\"\n    }\n}",
     "output_type": "error",
     "traceback": [
      "\u001b[31m---------------------------------------------------------------------------\u001b[39m",
      "\u001b[31mWebserviceException\u001b[39m                       Traceback (most recent call last)",
      "\u001b[36mCell\u001b[39m\u001b[36m \u001b[39m\u001b[32mIn[49]\u001b[39m\u001b[32m, line 1\u001b[39m\n\u001b[32m----> \u001b[39m\u001b[32m1\u001b[39m \u001b[43mservice\u001b[49m\u001b[43m.\u001b[49m\u001b[43mwait_for_deployment\u001b[49m\u001b[43m(\u001b[49m\u001b[43m)\u001b[49m\n",
      "\u001b[36mFile \u001b[39m\u001b[32mc:\\Users\\aoran\\Desktop\\Clases\\Octavo\\Proyecto algo\\Cloud\\Act 2\\venv\\Lib\\site-packages\\azureml\\core\\webservice\\webservice.py:910\u001b[39m, in \u001b[36mWebservice.wait_for_deployment\u001b[39m\u001b[34m(self, show_output, timeout_sec)\u001b[39m\n\u001b[32m    907\u001b[39m         \u001b[38;5;28;01mif\u001b[39;00m \u001b[38;5;129;01mnot\u001b[39;00m logs_response:\n\u001b[32m    908\u001b[39m             logs_response = \u001b[33m'\u001b[39m\u001b[33mCurrent sub-operation type not known, more logs unavailable.\u001b[39m\u001b[33m'\u001b[39m\n\u001b[32m--> \u001b[39m\u001b[32m910\u001b[39m         \u001b[38;5;28;01mraise\u001b[39;00m WebserviceException(\u001b[33m'\u001b[39m\u001b[33mService deployment polling reached non-successful terminal state, current \u001b[39m\u001b[33m'\u001b[39m\n\u001b[32m    911\u001b[39m                                   \u001b[33m'\u001b[39m\u001b[33mservice state: \u001b[39m\u001b[38;5;132;01m{}\u001b[39;00m\u001b[38;5;130;01m\\n\u001b[39;00m\u001b[33m'\u001b[39m\n\u001b[32m    912\u001b[39m                                   \u001b[33m'\u001b[39m\u001b[33mOperation ID: \u001b[39m\u001b[38;5;132;01m{}\u001b[39;00m\u001b[38;5;130;01m\\n\u001b[39;00m\u001b[33m'\u001b[39m\n\u001b[32m    913\u001b[39m                                   \u001b[33m'\u001b[39m\u001b[38;5;132;01m{}\u001b[39;00m\u001b[38;5;130;01m\\n\u001b[39;00m\u001b[33m'\u001b[39m\n\u001b[32m    914\u001b[39m                                   \u001b[33m'\u001b[39m\u001b[33mError:\u001b[39m\u001b[38;5;130;01m\\n\u001b[39;00m\u001b[33m'\u001b[39m\n\u001b[32m    915\u001b[39m                                   \u001b[33m'\u001b[39m\u001b[38;5;132;01m{}\u001b[39;00m\u001b[33m'\u001b[39m.format(\u001b[38;5;28mself\u001b[39m.state, \u001b[38;5;28mself\u001b[39m._operation_endpoint.split(\u001b[33m'\u001b[39m\u001b[33m/\u001b[39m\u001b[33m'\u001b[39m)[-\u001b[32m1\u001b[39m],\n\u001b[32m    916\u001b[39m                                               logs_response, format_error_response), logger=module_logger)\n\u001b[32m    917\u001b[39m     \u001b[38;5;28mprint\u001b[39m(\u001b[33m'\u001b[39m\u001b[38;5;132;01m{}\u001b[39;00m\u001b[33m service creation operation finished, operation \u001b[39m\u001b[33m\"\u001b[39m\u001b[38;5;132;01m{}\u001b[39;00m\u001b[33m\"\u001b[39m\u001b[33m'\u001b[39m.format(\u001b[38;5;28mself\u001b[39m._webservice_type,\n\u001b[32m    918\u001b[39m                                                                           operation_state))\n\u001b[32m    919\u001b[39m \u001b[38;5;28;01mexcept\u001b[39;00m WebserviceException \u001b[38;5;28;01mas\u001b[39;00m e:\n",
      "\u001b[31mWebserviceException\u001b[39m: WebserviceException:\n\tMessage: Service deployment polling reached non-successful terminal state, current service state: Unhealthy\nOperation ID: 04ce4b94-f988-4a62-8914-b69813257f79\nMore information can be found using '.get_logs()'\nError:\n{\n  \"code\": \"AciDeploymentFailed\",\n  \"statusCode\": 400,\n  \"message\": \"Aci Deployment failed with exception: Your scoring file's init() function restarts frequently. You can address the error by increasing the value of memory_gb in deployment_config.\",\n  \"details\": [\n    {\n      \"code\": \"ScoreInitRestart\",\n      \"message\": \"Your scoring file's init() function restarts frequently. You can address the error by increasing the value of memory_gb in deployment_config.\"\n    }\n  ]\n}\n\tInnerException None\n\tErrorResponse \n{\n    \"error\": {\n        \"message\": \"Service deployment polling reached non-successful terminal state, current service state: Unhealthy\\nOperation ID: 04ce4b94-f988-4a62-8914-b69813257f79\\nMore information can be found using '.get_logs()'\\nError:\\n{\\n  \\\"code\\\": \\\"AciDeploymentFailed\\\",\\n  \\\"statusCode\\\": 400,\\n  \\\"message\\\": \\\"Aci Deployment failed with exception: Your scoring file's init() function restarts frequently. You can address the error by increasing the value of memory_gb in deployment_config.\\\",\\n  \\\"details\\\": [\\n    {\\n      \\\"code\\\": \\\"ScoreInitRestart\\\",\\n      \\\"message\\\": \\\"Your scoring file's init() function restarts frequently. You can address the error by increasing the value of memory_gb in deployment_config.\\\"\\n    }\\n  ]\\n}\"\n    }\n}"
     ]
    }
   ],
   "source": [
    "service.wait_for_deployment()"
   ]
  },
  {
   "cell_type": "code",
   "execution_count": null,
   "metadata": {},
   "outputs": [],
   "source": [
    "scoring_uri = service.scoring_uri"
   ]
  },
  {
   "cell_type": "code",
   "execution_count": null,
   "metadata": {},
   "outputs": [],
   "source": [
    "scoreuri = json.dumps({\"URI\": [scoring_uri]})\n",
    "file = open(\"uri.json\", \"w\")\n",
    "file.write(scoreuri)\n",
    "file.close()"
   ]
  }
 ],
 "metadata": {
  "kernelspec": {
   "display_name": "venv",
   "language": "python",
   "name": "python3"
  },
  "language_info": {
   "codemirror_mode": {
    "name": "ipython",
    "version": 3
   },
   "file_extension": ".py",
   "mimetype": "text/x-python",
   "name": "python",
   "nbconvert_exporter": "python",
   "pygments_lexer": "ipython3",
   "version": "3.11.9"
  }
 },
 "nbformat": 4,
 "nbformat_minor": 2
}
