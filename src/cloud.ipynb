{
 "cells": [
  {
   "cell_type": "markdown",
   "metadata": {},
   "source": [
    "## Entorno"
   ]
  },
  {
   "cell_type": "code",
   "execution_count": 1,
   "metadata": {},
   "outputs": [
    {
     "name": "stdout",
     "output_type": "stream",
     "text": [
      "Collecting azureml-sdk\n",
      "  Using cached azureml_sdk-1.59.0-py3-none-any.whl.metadata (3.6 kB)\n",
      "Collecting azureml-core~=1.59.0 (from azureml-sdk)\n",
      "  Using cached azureml_core-1.59.0.post2-py3-none-any.whl.metadata (3.4 kB)\n",
      "Collecting azureml-dataset-runtime~=1.59.0 (from azureml-dataset-runtime[fuse]~=1.59.0->azureml-sdk)\n",
      "  Using cached azureml_dataset_runtime-1.59.0-py3-none-any.whl.metadata (1.2 kB)\n",
      "Collecting azureml-train-core~=1.59.0 (from azureml-sdk)\n",
      "  Using cached azureml_train_core-1.59.0-py3-none-any.whl.metadata (1.8 kB)\n",
      "Collecting azureml-train-automl-client~=1.59.0 (from azureml-sdk)\n",
      "  Using cached azureml_train_automl_client-1.59.0-py3-none-any.whl.metadata (1.4 kB)\n",
      "Collecting azureml-pipeline~=1.59.0 (from azureml-sdk)\n",
      "  Using cached azureml_pipeline-1.59.0-py3-none-any.whl.metadata (1.8 kB)\n",
      "Requirement already satisfied: pytz in c:\\users\\pedro\\appdata\\local\\packages\\pythonsoftwarefoundation.python.3.11_qbz5n2kfra8p0\\localcache\\local-packages\\python311\\site-packages (from azureml-core~=1.59.0->azureml-sdk) (2022.7.1)\n",
      "Collecting backports.tempfile (from azureml-core~=1.59.0->azureml-sdk)\n",
      "  Using cached backports.tempfile-1.0-py2.py3-none-any.whl.metadata (2.3 kB)\n",
      "Collecting pathspec<1.0.0 (from azureml-core~=1.59.0->azureml-sdk)\n",
      "  Using cached pathspec-0.12.1-py3-none-any.whl.metadata (21 kB)\n",
      "Requirement already satisfied: requests<3.0.0,>=2.19.1 in c:\\users\\pedro\\appdata\\local\\packages\\pythonsoftwarefoundation.python.3.11_qbz5n2kfra8p0\\localcache\\local-packages\\python311\\site-packages (from requests[socks]<3.0.0,>=2.19.1->azureml-core~=1.59.0->azureml-sdk) (2.31.0)\n",
      "Collecting msal<2.0.0,>=1.15.0 (from azureml-core~=1.59.0->azureml-sdk)\n",
      "  Using cached msal-1.32.0-py3-none-any.whl.metadata (11 kB)\n",
      "Collecting msal-extensions<=2.0.0,>=0.3.0 (from azureml-core~=1.59.0->azureml-sdk)\n",
      "  Using cached msal_extensions-1.3.1-py3-none-any.whl.metadata (7.8 kB)\n",
      "Collecting knack<0.13.0 (from azureml-core~=1.59.0->azureml-sdk)\n",
      "  Using cached knack-0.12.0-py3-none-any.whl.metadata (5.2 kB)\n",
      "Collecting azure-core<2.0.0 (from azureml-core~=1.59.0->azureml-sdk)\n",
      "  Using cached azure_core-1.33.0-py3-none-any.whl.metadata (42 kB)\n",
      "Collecting pkginfo (from azureml-core~=1.59.0->azureml-sdk)\n",
      "  Using cached pkginfo-1.12.1.2-py3-none-any.whl.metadata (13 kB)\n",
      "Collecting argcomplete<4 (from azureml-core~=1.59.0->azureml-sdk)\n",
      "  Using cached argcomplete-3.6.2-py3-none-any.whl.metadata (16 kB)\n",
      "Collecting humanfriendly<11.0,>=4.7 (from azureml-core~=1.59.0->azureml-sdk)\n",
      "  Using cached humanfriendly-10.0-py2.py3-none-any.whl.metadata (9.2 kB)\n",
      "Collecting paramiko<4.0.0,>=2.0.8 (from azureml-core~=1.59.0->azureml-sdk)\n",
      "  Using cached paramiko-3.5.1-py3-none-any.whl.metadata (4.6 kB)\n",
      "Collecting azure-mgmt-resource<=24.0.0,>=15.0.0 (from azureml-core~=1.59.0->azureml-sdk)\n",
      "  Using cached azure_mgmt_resource-23.3.0-py3-none-any.whl.metadata (41 kB)\n",
      "Collecting azure-mgmt-containerregistry<11,>=8.2.0 (from azureml-core~=1.59.0->azureml-sdk)\n",
      "  Using cached azure_mgmt_containerregistry-10.3.0-py3-none-any.whl.metadata (23 kB)\n",
      "Collecting azure-mgmt-storage<=22.0.0,>=16.0.0 (from azureml-core~=1.59.0->azureml-sdk)\n",
      "  Using cached azure_mgmt_storage-22.0.0-py3-none-any.whl.metadata (31 kB)\n",
      "Collecting azure-mgmt-keyvault<11.0.0,>=0.40.0 (from azureml-core~=1.59.0->azureml-sdk)\n",
      "  Using cached azure_mgmt_keyvault-10.3.1-py3-none-any.whl.metadata (15 kB)\n",
      "Collecting azure-mgmt-authorization<5,>=0.40.0 (from azureml-core~=1.59.0->azureml-sdk)\n",
      "  Using cached azure_mgmt_authorization-4.0.0-py3-none-any.whl.metadata (18 kB)\n",
      "Collecting azure-mgmt-network<=29.0.0 (from azureml-core~=1.59.0->azureml-sdk)\n",
      "  Using cached azure_mgmt_network-28.1.0-py3-none-any.whl.metadata (90 kB)\n",
      "Collecting azure-graphrbac<1.0.0,>=0.40.0 (from azureml-core~=1.59.0->azureml-sdk)\n",
      "  Using cached azure_graphrbac-0.61.2-py2.py3-none-any.whl.metadata (11 kB)\n",
      "Collecting azure-common<2.0.0,>=1.1.12 (from azureml-core~=1.59.0->azureml-sdk)\n",
      "  Using cached azure_common-1.1.28-py2.py3-none-any.whl.metadata (5.0 kB)\n",
      "Collecting msrest<=0.7.1,>=0.5.1 (from azureml-core~=1.59.0->azureml-sdk)\n",
      "  Using cached msrest-0.7.1-py3-none-any.whl.metadata (21 kB)\n",
      "Collecting msrestazure<=0.7,>=0.4.33 (from azureml-core~=1.59.0->azureml-sdk)\n",
      "  Using cached msrestazure-0.6.4.post1-py2.py3-none-any.whl.metadata (15 kB)\n",
      "Requirement already satisfied: urllib3<3.0.0,>1.26.17 in c:\\users\\pedro\\appdata\\local\\packages\\pythonsoftwarefoundation.python.3.11_qbz5n2kfra8p0\\localcache\\local-packages\\python311\\site-packages (from azureml-core~=1.59.0->azureml-sdk) (2.0.7)\n",
      "Requirement already satisfied: packaging<=25.0,>=20.0 in c:\\users\\pedro\\appdata\\local\\packages\\pythonsoftwarefoundation.python.3.11_qbz5n2kfra8p0\\localcache\\local-packages\\python311\\site-packages (from azureml-core~=1.59.0->azureml-sdk) (23.0)\n",
      "Requirement already satisfied: python-dateutil<3.0.0,>=2.7.3 in c:\\users\\pedro\\appdata\\local\\packages\\pythonsoftwarefoundation.python.3.11_qbz5n2kfra8p0\\localcache\\local-packages\\python311\\site-packages (from azureml-core~=1.59.0->azureml-sdk) (2.8.2)\n",
      "Collecting ndg-httpsclient<=0.5.1 (from azureml-core~=1.59.0->azureml-sdk)\n",
      "  Using cached ndg_httpsclient-0.5.1-py3-none-any.whl.metadata (6.2 kB)\n",
      "Collecting SecretStorage<4.0.0 (from azureml-core~=1.59.0->azureml-sdk)\n",
      "  Using cached SecretStorage-3.3.3-py3-none-any.whl.metadata (4.0 kB)\n",
      "Collecting jsonpickle<5.0.0 (from azureml-core~=1.59.0->azureml-sdk)\n",
      "  Using cached jsonpickle-4.0.5-py3-none-any.whl.metadata (8.2 kB)\n",
      "Collecting contextlib2<22.0.0 (from azureml-core~=1.59.0->azureml-sdk)\n",
      "  Using cached contextlib2-21.6.0-py2.py3-none-any.whl.metadata (4.1 kB)\n",
      "Collecting docker<8.0.0 (from azureml-core~=1.59.0->azureml-sdk)\n",
      "  Using cached docker-7.1.0-py3-none-any.whl.metadata (3.8 kB)\n",
      "Collecting PyJWT<3.0.0 (from azureml-core~=1.59.0->azureml-sdk)\n",
      "  Using cached PyJWT-2.10.1-py3-none-any.whl.metadata (4.0 kB)\n",
      "Collecting adal<=1.2.7,>=1.2.0 (from azureml-core~=1.59.0->azureml-sdk)\n",
      "  Using cached adal-1.2.7-py2.py3-none-any.whl.metadata (6.9 kB)\n",
      "Collecting pyopenssl<25.0.0 (from azureml-core~=1.59.0->azureml-sdk)\n",
      "  Using cached pyOpenSSL-24.3.0-py3-none-any.whl.metadata (15 kB)\n",
      "Collecting jmespath<2.0.0 (from azureml-core~=1.59.0->azureml-sdk)\n",
      "  Using cached jmespath-1.0.1-py3-none-any.whl.metadata (7.6 kB)\n",
      "Collecting azureml-dataprep<5.2.0a,>=5.1.0a (from azureml-dataset-runtime~=1.59.0->azureml-dataset-runtime[fuse]~=1.59.0->azureml-sdk)\n",
      "  Using cached azureml_dataprep-5.1.6-py3-none-any.whl.metadata (2.2 kB)\n",
      "Collecting pyarrow>=0.17.0 (from azureml-dataset-runtime~=1.59.0->azureml-dataset-runtime[fuse]~=1.59.0->azureml-sdk)\n",
      "  Using cached pyarrow-19.0.1-cp311-cp311-win_amd64.whl.metadata (3.4 kB)\n",
      "Collecting numpy!=1.19.4,<1.24 (from azureml-dataset-runtime~=1.59.0->azureml-dataset-runtime[fuse]~=1.59.0->azureml-sdk)\n",
      "  Using cached numpy-1.23.5-cp311-cp311-win_amd64.whl.metadata (2.3 kB)\n",
      "Collecting fusepy<4.0.0,>=3.0.1 (from azureml-dataset-runtime[fuse]~=1.59.0->azureml-sdk)\n",
      "  Using cached fusepy-3.0.1-py3-none-any.whl\n",
      "Collecting azureml-pipeline-core~=1.59.0 (from azureml-pipeline~=1.59.0->azureml-sdk)\n",
      "  Using cached azureml_pipeline_core-1.59.0-py3-none-any.whl.metadata (1.0 kB)\n",
      "Collecting azureml-pipeline-steps~=1.59.0 (from azureml-pipeline~=1.59.0->azureml-sdk)\n",
      "  Using cached azureml_pipeline_steps-1.59.0-py3-none-any.whl.metadata (1.1 kB)\n",
      "Collecting azureml-automl-core~=1.59.0 (from azureml-train-automl-client~=1.59.0->azureml-sdk)\n",
      "  Using cached azureml_automl_core-1.59.0-py3-none-any.whl.metadata (1.9 kB)\n",
      "Collecting azureml-telemetry~=1.59.0 (from azureml-train-automl-client~=1.59.0->azureml-sdk)\n",
      "  Using cached azureml_telemetry-1.59.0-py3-none-any.whl.metadata (1.1 kB)\n",
      "Collecting azureml-train-restclients-hyperdrive~=1.59.0 (from azureml-train-core~=1.59.0->azureml-sdk)\n",
      "  Using cached azureml_train_restclients_hyperdrive-1.59.0-py3-none-any.whl.metadata (1.2 kB)\n",
      "Collecting cryptography>=1.1.0 (from adal<=1.2.7,>=1.2.0->azureml-core~=1.59.0->azureml-sdk)\n",
      "  Using cached cryptography-44.0.2-cp39-abi3-win_amd64.whl.metadata (5.7 kB)\n",
      "Requirement already satisfied: six>=1.11.0 in c:\\users\\pedro\\appdata\\local\\packages\\pythonsoftwarefoundation.python.3.11_qbz5n2kfra8p0\\localcache\\local-packages\\python311\\site-packages (from azure-core<2.0.0->azureml-core~=1.59.0->azureml-sdk) (1.16.0)\n",
      "Requirement already satisfied: typing-extensions>=4.6.0 in c:\\users\\pedro\\appdata\\local\\packages\\pythonsoftwarefoundation.python.3.11_qbz5n2kfra8p0\\localcache\\local-packages\\python311\\site-packages (from azure-core<2.0.0->azureml-core~=1.59.0->azureml-sdk) (4.8.0)\n",
      "Collecting isodate<1.0.0,>=0.6.1 (from azure-mgmt-authorization<5,>=0.40.0->azureml-core~=1.59.0->azureml-sdk)\n",
      "  Using cached isodate-0.7.2-py3-none-any.whl.metadata (11 kB)\n",
      "Collecting azure-mgmt-core<2.0.0,>=1.3.2 (from azure-mgmt-authorization<5,>=0.40.0->azureml-core~=1.59.0->azureml-sdk)\n",
      "  Using cached azure_mgmt_core-1.5.0-py3-none-any.whl.metadata (4.3 kB)\n",
      "Collecting importlib-metadata<=8.2.0 (from azureml-automl-core~=1.59.0->azureml-train-automl-client~=1.59.0->azureml-sdk)\n",
      "  Using cached importlib_metadata-8.2.0-py3-none-any.whl.metadata (4.7 kB)\n",
      "Collecting importlib-resources<=6.4.0 (from azureml-automl-core~=1.59.0->azureml-train-automl-client~=1.59.0->azureml-sdk)\n",
      "  Using cached importlib_resources-6.4.0-py3-none-any.whl.metadata (3.9 kB)\n",
      "Collecting azureml-dataprep-native<42.0.0,>=41.0.0 (from azureml-dataprep<5.2.0a,>=5.1.0a->azureml-dataset-runtime~=1.59.0->azureml-dataset-runtime[fuse]~=1.59.0->azureml-sdk)\n",
      "  Using cached azureml_dataprep_native-41.0.0-cp311-cp311-win_amd64.whl.metadata (1.4 kB)\n",
      "Collecting azureml-dataprep-rslex~=2.22.2dev0 (from azureml-dataprep<5.2.0a,>=5.1.0a->azureml-dataset-runtime~=1.59.0->azureml-dataset-runtime[fuse]~=1.59.0->azureml-sdk)\n",
      "  Using cached azureml_dataprep_rslex-2.22.5-cp311-cp311-win_amd64.whl.metadata (1.7 kB)\n",
      "Collecting cloudpickle<3.0.0,>=1.1.0 (from azureml-dataprep<5.2.0a,>=5.1.0a->azureml-dataset-runtime~=1.59.0->azureml-dataset-runtime[fuse]~=1.59.0->azureml-sdk)\n",
      "  Using cached cloudpickle-2.2.1-py3-none-any.whl.metadata (6.9 kB)\n",
      "Collecting azure-identity>=1.7.0 (from azureml-dataprep<5.2.0a,>=5.1.0a->azureml-dataset-runtime~=1.59.0->azureml-dataset-runtime[fuse]~=1.59.0->azureml-sdk)\n",
      "  Using cached azure_identity-1.21.0-py3-none-any.whl.metadata (81 kB)\n",
      "Requirement already satisfied: jsonschema in c:\\users\\pedro\\appdata\\local\\packages\\pythonsoftwarefoundation.python.3.11_qbz5n2kfra8p0\\localcache\\local-packages\\python311\\site-packages (from azureml-dataprep<5.2.0a,>=5.1.0a->azureml-dataset-runtime~=1.59.0->azureml-dataset-runtime[fuse]~=1.59.0->azureml-sdk) (4.22.0)\n",
      "Requirement already satisfied: pyyaml<7.0.0,>=5.1.0 in c:\\users\\pedro\\appdata\\local\\packages\\pythonsoftwarefoundation.python.3.11_qbz5n2kfra8p0\\localcache\\local-packages\\python311\\site-packages (from azureml-dataprep<5.2.0a,>=5.1.0a->azureml-dataset-runtime~=1.59.0->azureml-dataset-runtime[fuse]~=1.59.0->azureml-sdk) (6.0.1)\n",
      "Collecting applicationinsights (from azureml-telemetry~=1.59.0->azureml-train-automl-client~=1.59.0->azureml-sdk)\n",
      "  Using cached applicationinsights-0.11.10-py2.py3-none-any.whl.metadata (982 bytes)\n",
      "Requirement already satisfied: pywin32>=304 in c:\\users\\pedro\\appdata\\local\\packages\\pythonsoftwarefoundation.python.3.11_qbz5n2kfra8p0\\localcache\\local-packages\\python311\\site-packages (from docker<8.0.0->azureml-core~=1.59.0->azureml-sdk) (305)\n",
      "Collecting pyreadline3 (from humanfriendly<11.0,>=4.7->azureml-core~=1.59.0->azureml-sdk)\n",
      "  Using cached pyreadline3-3.5.4-py3-none-any.whl.metadata (4.7 kB)\n",
      "Requirement already satisfied: pygments in c:\\users\\pedro\\appdata\\local\\packages\\pythonsoftwarefoundation.python.3.11_qbz5n2kfra8p0\\localcache\\local-packages\\python311\\site-packages (from knack<0.13.0->azureml-core~=1.59.0->azureml-sdk) (2.14.0)\n",
      "Collecting tabulate (from knack<0.13.0->azureml-core~=1.59.0->azureml-sdk)\n",
      "  Using cached tabulate-0.9.0-py3-none-any.whl.metadata (34 kB)\n",
      "Requirement already satisfied: certifi>=2017.4.17 in c:\\users\\pedro\\appdata\\local\\packages\\pythonsoftwarefoundation.python.3.11_qbz5n2kfra8p0\\localcache\\local-packages\\python311\\site-packages (from msrest<=0.7.1,>=0.5.1->azureml-core~=1.59.0->azureml-sdk) (2022.12.7)\n",
      "Requirement already satisfied: requests-oauthlib>=0.5.0 in c:\\users\\pedro\\appdata\\local\\packages\\pythonsoftwarefoundation.python.3.11_qbz5n2kfra8p0\\localcache\\local-packages\\python311\\site-packages (from msrest<=0.7.1,>=0.5.1->azureml-core~=1.59.0->azureml-sdk) (1.3.1)\n",
      "Requirement already satisfied: pyasn1>=0.1.1 in c:\\users\\pedro\\appdata\\local\\packages\\pythonsoftwarefoundation.python.3.11_qbz5n2kfra8p0\\localcache\\local-packages\\python311\\site-packages (from ndg-httpsclient<=0.5.1->azureml-core~=1.59.0->azureml-sdk) (0.5.0)\n",
      "Collecting bcrypt>=3.2 (from paramiko<4.0.0,>=2.0.8->azureml-core~=1.59.0->azureml-sdk)\n",
      "  Using cached bcrypt-4.3.0-cp39-abi3-win_amd64.whl.metadata (10 kB)\n",
      "Collecting pynacl>=1.5 (from paramiko<4.0.0,>=2.0.8->azureml-core~=1.59.0->azureml-sdk)\n",
      "  Using cached PyNaCl-1.5.0-cp36-abi3-win_amd64.whl.metadata (8.7 kB)\n",
      "Requirement already satisfied: charset-normalizer<4,>=2 in c:\\users\\pedro\\appdata\\local\\packages\\pythonsoftwarefoundation.python.3.11_qbz5n2kfra8p0\\localcache\\local-packages\\python311\\site-packages (from requests<3.0.0,>=2.19.1->requests[socks]<3.0.0,>=2.19.1->azureml-core~=1.59.0->azureml-sdk) (3.3.1)\n",
      "Requirement already satisfied: idna<4,>=2.5 in c:\\users\\pedro\\appdata\\local\\packages\\pythonsoftwarefoundation.python.3.11_qbz5n2kfra8p0\\localcache\\local-packages\\python311\\site-packages (from requests<3.0.0,>=2.19.1->requests[socks]<3.0.0,>=2.19.1->azureml-core~=1.59.0->azureml-sdk) (2.10)\n",
      "Collecting PySocks!=1.5.7,>=1.5.6 (from requests[socks]<3.0.0,>=2.19.1->azureml-core~=1.59.0->azureml-sdk)\n",
      "  Using cached PySocks-1.7.1-py3-none-any.whl.metadata (13 kB)\n",
      "Collecting jeepney>=0.6 (from SecretStorage<4.0.0->azureml-core~=1.59.0->azureml-sdk)\n",
      "  Using cached jeepney-0.9.0-py3-none-any.whl.metadata (1.2 kB)\n",
      "Collecting backports.weakref (from backports.tempfile->azureml-core~=1.59.0->azureml-sdk)\n",
      "  Using cached backports.weakref-1.0.post1-py2.py3-none-any.whl.metadata (2.3 kB)\n",
      "Requirement already satisfied: cffi>=1.12 in c:\\users\\pedro\\appdata\\local\\packages\\pythonsoftwarefoundation.python.3.11_qbz5n2kfra8p0\\localcache\\local-packages\\python311\\site-packages (from cryptography>=1.1.0->adal<=1.2.7,>=1.2.0->azureml-core~=1.59.0->azureml-sdk) (1.16.0)\n",
      "Collecting zipp>=0.5 (from importlib-metadata<=8.2.0->azureml-automl-core~=1.59.0->azureml-train-automl-client~=1.59.0->azureml-sdk)\n",
      "  Using cached zipp-3.21.0-py3-none-any.whl.metadata (3.7 kB)\n",
      "Requirement already satisfied: oauthlib>=3.0.0 in c:\\users\\pedro\\appdata\\local\\packages\\pythonsoftwarefoundation.python.3.11_qbz5n2kfra8p0\\localcache\\local-packages\\python311\\site-packages (from requests-oauthlib>=0.5.0->msrest<=0.7.1,>=0.5.1->azureml-core~=1.59.0->azureml-sdk) (3.2.2)\n",
      "Requirement already satisfied: attrs>=22.2.0 in c:\\users\\pedro\\appdata\\local\\packages\\pythonsoftwarefoundation.python.3.11_qbz5n2kfra8p0\\localcache\\local-packages\\python311\\site-packages (from jsonschema->azureml-dataprep<5.2.0a,>=5.1.0a->azureml-dataset-runtime~=1.59.0->azureml-dataset-runtime[fuse]~=1.59.0->azureml-sdk) (23.2.0)\n",
      "Requirement already satisfied: jsonschema-specifications>=2023.03.6 in c:\\users\\pedro\\appdata\\local\\packages\\pythonsoftwarefoundation.python.3.11_qbz5n2kfra8p0\\localcache\\local-packages\\python311\\site-packages (from jsonschema->azureml-dataprep<5.2.0a,>=5.1.0a->azureml-dataset-runtime~=1.59.0->azureml-dataset-runtime[fuse]~=1.59.0->azureml-sdk) (2023.12.1)\n",
      "Requirement already satisfied: referencing>=0.28.4 in c:\\users\\pedro\\appdata\\local\\packages\\pythonsoftwarefoundation.python.3.11_qbz5n2kfra8p0\\localcache\\local-packages\\python311\\site-packages (from jsonschema->azureml-dataprep<5.2.0a,>=5.1.0a->azureml-dataset-runtime~=1.59.0->azureml-dataset-runtime[fuse]~=1.59.0->azureml-sdk) (0.35.1)\n",
      "Requirement already satisfied: rpds-py>=0.7.1 in c:\\users\\pedro\\appdata\\local\\packages\\pythonsoftwarefoundation.python.3.11_qbz5n2kfra8p0\\localcache\\local-packages\\python311\\site-packages (from jsonschema->azureml-dataprep<5.2.0a,>=5.1.0a->azureml-dataset-runtime~=1.59.0->azureml-dataset-runtime[fuse]~=1.59.0->azureml-sdk) (0.18.1)\n",
      "Requirement already satisfied: pycparser in c:\\users\\pedro\\appdata\\local\\packages\\pythonsoftwarefoundation.python.3.11_qbz5n2kfra8p0\\localcache\\local-packages\\python311\\site-packages (from cffi>=1.12->cryptography>=1.1.0->adal<=1.2.7,>=1.2.0->azureml-core~=1.59.0->azureml-sdk) (2.22)\n",
      "Using cached azureml_sdk-1.59.0-py3-none-any.whl (2.7 kB)\n",
      "Using cached azureml_core-1.59.0.post2-py3-none-any.whl (3.3 MB)\n",
      "Using cached azureml_dataset_runtime-1.59.0-py3-none-any.whl (2.2 kB)\n",
      "Using cached azureml_pipeline-1.59.0-py3-none-any.whl (2.4 kB)\n",
      "Using cached azureml_train_automl_client-1.59.0-py3-none-any.whl (137 kB)\n",
      "Using cached azureml_train_core-1.59.0-py3-none-any.whl (8.6 MB)\n",
      "Using cached adal-1.2.7-py2.py3-none-any.whl (55 kB)\n",
      "Using cached argcomplete-3.6.2-py3-none-any.whl (43 kB)\n",
      "Using cached azure_common-1.1.28-py2.py3-none-any.whl (14 kB)\n",
      "Using cached azure_core-1.33.0-py3-none-any.whl (207 kB)\n",
      "Using cached azure_graphrbac-0.61.2-py2.py3-none-any.whl (142 kB)\n",
      "Using cached azure_mgmt_authorization-4.0.0-py3-none-any.whl (1.1 MB)\n",
      "Using cached azure_mgmt_containerregistry-10.3.0-py3-none-any.whl (2.3 MB)\n",
      "Using cached azure_mgmt_keyvault-10.3.1-py3-none-any.whl (901 kB)\n",
      "Using cached azure_mgmt_network-28.1.0-py3-none-any.whl (575 kB)\n",
      "Using cached azure_mgmt_resource-23.3.0-py3-none-any.whl (2.9 MB)\n",
      "Using cached azure_mgmt_storage-22.0.0-py3-none-any.whl (564 kB)\n",
      "Using cached azureml_automl_core-1.59.0-py3-none-any.whl (245 kB)\n",
      "Using cached azureml_dataprep-5.1.6-py3-none-any.whl (252 kB)\n",
      "Using cached azureml_pipeline_core-1.59.0-py3-none-any.whl (313 kB)\n",
      "Using cached azureml_pipeline_steps-1.59.0-py3-none-any.whl (69 kB)\n",
      "Using cached azureml_telemetry-1.59.0-py3-none-any.whl (30 kB)\n",
      "Using cached azureml_train_restclients_hyperdrive-1.59.0-py3-none-any.whl (18 kB)\n",
      "Using cached contextlib2-21.6.0-py2.py3-none-any.whl (13 kB)\n",
      "Using cached docker-7.1.0-py3-none-any.whl (147 kB)\n",
      "Using cached humanfriendly-10.0-py2.py3-none-any.whl (86 kB)\n",
      "Using cached jmespath-1.0.1-py3-none-any.whl (20 kB)\n",
      "Using cached jsonpickle-4.0.5-py3-none-any.whl (46 kB)\n",
      "Using cached knack-0.12.0-py3-none-any.whl (60 kB)\n",
      "Using cached msal-1.32.0-py3-none-any.whl (114 kB)\n",
      "Using cached msal_extensions-1.3.1-py3-none-any.whl (20 kB)\n",
      "Using cached msrest-0.7.1-py3-none-any.whl (85 kB)\n",
      "Using cached msrestazure-0.6.4.post1-py2.py3-none-any.whl (40 kB)\n",
      "Using cached ndg_httpsclient-0.5.1-py3-none-any.whl (34 kB)\n",
      "Using cached numpy-1.23.5-cp311-cp311-win_amd64.whl (14.6 MB)\n",
      "Using cached paramiko-3.5.1-py3-none-any.whl (227 kB)\n",
      "Using cached pathspec-0.12.1-py3-none-any.whl (31 kB)\n",
      "Using cached pyarrow-19.0.1-cp311-cp311-win_amd64.whl (25.3 MB)\n",
      "Using cached PyJWT-2.10.1-py3-none-any.whl (22 kB)\n",
      "Using cached pyOpenSSL-24.3.0-py3-none-any.whl (56 kB)\n",
      "Using cached SecretStorage-3.3.3-py3-none-any.whl (15 kB)\n",
      "Using cached backports.tempfile-1.0-py2.py3-none-any.whl (4.4 kB)\n",
      "Using cached pkginfo-1.12.1.2-py3-none-any.whl (32 kB)\n",
      "Using cached azure_identity-1.21.0-py3-none-any.whl (189 kB)\n",
      "Using cached azure_mgmt_core-1.5.0-py3-none-any.whl (30 kB)\n",
      "Using cached azureml_dataprep_native-41.0.0-cp311-cp311-win_amd64.whl (893 kB)\n",
      "Using cached azureml_dataprep_rslex-2.22.5-cp311-cp311-win_amd64.whl (18.3 MB)\n",
      "Using cached bcrypt-4.3.0-cp39-abi3-win_amd64.whl (152 kB)\n",
      "Using cached cloudpickle-2.2.1-py3-none-any.whl (25 kB)\n",
      "Using cached cryptography-44.0.2-cp39-abi3-win_amd64.whl (3.2 MB)\n",
      "Using cached importlib_metadata-8.2.0-py3-none-any.whl (25 kB)\n",
      "Using cached importlib_resources-6.4.0-py3-none-any.whl (38 kB)\n",
      "Using cached isodate-0.7.2-py3-none-any.whl (22 kB)\n",
      "Using cached jeepney-0.9.0-py3-none-any.whl (49 kB)\n",
      "Using cached PyNaCl-1.5.0-cp36-abi3-win_amd64.whl (212 kB)\n",
      "Using cached PySocks-1.7.1-py3-none-any.whl (16 kB)\n",
      "Using cached applicationinsights-0.11.10-py2.py3-none-any.whl (55 kB)\n",
      "Using cached backports.weakref-1.0.post1-py2.py3-none-any.whl (5.2 kB)\n",
      "Using cached pyreadline3-3.5.4-py3-none-any.whl (83 kB)\n",
      "Using cached tabulate-0.9.0-py3-none-any.whl (35 kB)\n",
      "Using cached zipp-3.21.0-py3-none-any.whl (9.6 kB)\n",
      "Installing collected packages: fusepy, backports.weakref, azureml-dataprep-rslex, azureml-dataprep-native, azure-common, applicationinsights, zipp, tabulate, PySocks, pyreadline3, PyJWT, pyarrow, pkginfo, pathspec, numpy, jsonpickle, jmespath, jeepney, isodate, importlib-resources, contextlib2, cloudpickle, bcrypt, backports.tempfile, argcomplete, pynacl, knack, importlib-metadata, humanfriendly, docker, cryptography, azure-core, SecretStorage, pyopenssl, paramiko, msrest, azure-mgmt-core, adal, ndg-httpsclient, msrestazure, msal, azure-mgmt-storage, azure-mgmt-resource, azure-mgmt-network, azure-mgmt-keyvault, azure-mgmt-containerregistry, azure-mgmt-authorization, msal-extensions, azureml-train-restclients-hyperdrive, azure-graphrbac, azureml-core, azure-identity, azureml-telemetry, azureml-pipeline-core, azureml-dataprep, azureml-train-core, azureml-dataset-runtime, azureml-automl-core, azureml-train-automl-client, azureml-pipeline-steps, azureml-pipeline, azureml-sdk\n",
      "  Attempting uninstall: numpy\n",
      "    Found existing installation: numpy 1.24.2\n",
      "    Uninstalling numpy-1.24.2:\n",
      "      Successfully uninstalled numpy-1.24.2\n",
      "Successfully installed PyJWT-2.10.1 PySocks-1.7.1 SecretStorage-3.3.3 adal-1.2.7 applicationinsights-0.11.10 argcomplete-3.6.2 azure-common-1.1.28 azure-core-1.33.0 azure-graphrbac-0.61.2 azure-identity-1.21.0 azure-mgmt-authorization-4.0.0 azure-mgmt-containerregistry-10.3.0 azure-mgmt-core-1.5.0 azure-mgmt-keyvault-10.3.1 azure-mgmt-network-28.1.0 azure-mgmt-resource-23.3.0 azure-mgmt-storage-22.0.0 azureml-automl-core-1.59.0 azureml-core-1.59.0.post2 azureml-dataprep-5.1.6 azureml-dataprep-native-41.0.0 azureml-dataprep-rslex-2.22.5 azureml-dataset-runtime-1.59.0 azureml-pipeline-1.59.0 azureml-pipeline-core-1.59.0 azureml-pipeline-steps-1.59.0 azureml-sdk-1.59.0 azureml-telemetry-1.59.0 azureml-train-automl-client-1.59.0 azureml-train-core-1.59.0 azureml-train-restclients-hyperdrive-1.59.0 backports.tempfile-1.0 backports.weakref-1.0.post1 bcrypt-4.3.0 cloudpickle-2.2.1 contextlib2-21.6.0 cryptography-44.0.2 docker-7.1.0 fusepy-3.0.1 humanfriendly-10.0 importlib-metadata-8.2.0 importlib-resources-6.4.0 isodate-0.7.2 jeepney-0.9.0 jmespath-1.0.1 jsonpickle-4.0.5 knack-0.12.0 msal-1.32.0 msal-extensions-1.3.1 msrest-0.7.1 msrestazure-0.6.4.post1 ndg-httpsclient-0.5.1 numpy-1.23.5 paramiko-3.5.1 pathspec-0.12.1 pkginfo-1.12.1.2 pyarrow-19.0.1 pynacl-1.5.0 pyopenssl-24.3.0 pyreadline3-3.5.4 tabulate-0.9.0 zipp-3.21.0\n"
     ]
    },
    {
     "name": "stderr",
     "output_type": "stream",
     "text": [
      "\n",
      "[notice] A new release of pip is available: 24.0 -> 25.0.1\n",
      "[notice] To update, run: C:\\Users\\pedro\\AppData\\Local\\Microsoft\\WindowsApps\\PythonSoftwareFoundation.Python.3.11_qbz5n2kfra8p0\\python.exe -m pip install --upgrade pip\n"
     ]
    }
   ],
   "source": [
    "!pip install azureml-sdk"
   ]
  },
  {
   "cell_type": "markdown",
   "metadata": {},
   "source": [
    "# Despliegue en la nube"
   ]
  },
  {
   "cell_type": "code",
   "execution_count": null,
   "metadata": {},
   "outputs": [
    {
     "name": "stderr",
     "output_type": "stream",
     "text": [
      "UserWarning: The resource group doesn't exist or was not provided. AzureML SDK is creating a resource group=__hw21__ in location=centralindia using subscription=2d9980e2-949c-4940-90c6-ded37fd9868b.\n"
     ]
    },
    {
     "name": "stdout",
     "output_type": "stream",
     "text": [
      "Deploying AppInsights with name actividainsightsa830eb0a.\n",
      "Deployed AppInsights with name actividainsightsa830eb0a. Took 6.97 seconds.\n",
      "Deploying StorageAccount with name actividastoragee81b5be7b.\n",
      "Deploying KeyVault with name actividakeyvault496ef99a.\n",
      "Deployed KeyVault with name actividakeyvault496ef99a. Took 24.66 seconds.\n",
      "Deployed StorageAccount with name actividastoragee81b5be7b. Took 36.88 seconds.\n",
      "Deploying Workspace with name Actividad_21.\n",
      "Deployed Workspace with name Actividad_21. Took 85.51 seconds.\n"
     ]
    }
   ],
   "source": [
    "from azureml.core import Workspace\n",
    "\n",
    "ws = Workspace.create(name=\"Actividad_21\",\n",
    "                      subscription_id = \"id\",\n",
    "                      resource_group = \"__hw21__\",\n",
    "                      location = \"centralindia\") #centralindia"
   ]
  },
  {
   "cell_type": "code",
   "execution_count": 10,
   "metadata": {},
   "outputs": [
    {
     "name": "stdout",
     "output_type": "stream",
     "text": [
      "Registering model model\n"
     ]
    }
   ],
   "source": [
    "from azureml.core.model import Model\n",
    "\n",
    "registered_model = Model.register(model_path=\"model.pkl\",\n",
    "                                  model_name=\"model\",\n",
    "                                  workspace=ws)"
   ]
  },
  {
   "cell_type": "code",
   "execution_count": 11,
   "metadata": {},
   "outputs": [],
   "source": [
    "from azureml.core.environment import Environment\n",
    "virtual_env = Environment(\"env-4-housing\")\n",
    "\n",
    "from azureml.core.conda_dependencies import CondaDependencies\n",
    "virtual_env.python.conda_dependencies = CondaDependencies.create(conda_packages=[\n",
    "    'pandas',\n",
    "    'scikit-learn'\n",
    "    ])"
   ]
  },
  {
   "cell_type": "code",
   "execution_count": 12,
   "metadata": {},
   "outputs": [],
   "source": [
    "import json\n",
    "\n",
    "umb = open(\"umbral.json\", \"r\")\n",
    "umb = json.load(umb)\n",
    "umbral = umb[\"umbral\"][0]\n",
    "\n",
    "scorepy = f\"\"\"\n",
    "import json\n",
    "import joblib\n",
    "import numpy as np\n",
    "import pandas as pd\n",
    "from azureml.core.model import Model\n",
    "\n",
    "def init():\n",
    "  global model\n",
    "  model_path = Model.get_model_path('model')\n",
    "  model = joblib.load(model_path)\n",
    "\n",
    "def run(raw_data):\n",
    "  try: ## Try la predicción.\n",
    "    data = json.loads(raw_data)['data'][0]\n",
    "    data = pd.DataFrame(data)\n",
    "\n",
    "\n",
    "    result = model.predict(data_dummies).tolist()\n",
    "    result_sigmoid = sigmoid(result)\n",
    "    umbral = {umbral}\n",
    "    result_finals = [1 if x > umbral else 0 for x in result_sigmoid]\n",
    "\n",
    "    return json.dumps(result_finals)\n",
    "  except Exception as e:\n",
    "    return json.dumps(str(e))\n",
    "\"\"\"\n",
    "\n",
    "file_score = open(\"score.py\", \"w\")\n",
    "file_score.write(scorepy)\n",
    "file_score.close()"
   ]
  },
  {
   "cell_type": "code",
   "execution_count": null,
   "metadata": {},
   "outputs": [
    {
     "name": "stderr",
     "output_type": "stream",
     "text": [
      "C:\\Users\\pedro\\AppData\\Local\\Temp\\ipykernel_16756\\817183983.py:10: FutureWarning: azureml.core.model:\n",
      "To leverage new model deployment capabilities, AzureML recommends using CLI/SDK v2 to deploy models as online endpoint, \n",
      "please refer to respective documentations \n",
      "https://docs.microsoft.com/azure/machine-learning/how-to-deploy-managed-online-endpoints /\n",
      "https://docs.microsoft.com/azure/machine-learning/how-to-attach-kubernetes-anywhere \n",
      "For more information on migration, see https://aka.ms/acimoemigration \n",
      "To disable CLI/SDK v1 deprecation warning set AZUREML_LOG_DEPRECATION_WARNING_ENABLED to 'False'\n",
      "  service = Model.deploy(workspace=ws,\n"
     ]
    }
   ],
   "source": [
    "from azureml.core.model import InferenceConfig\n",
    "from azureml.core.webservice import AciWebservice\n",
    "\n",
    "inference_config = InferenceConfig(\n",
    "                                environment=virtual_env,\n",
    "                                entry_script=\"score.py\",\n",
    "                                )\n",
    "aci_config = AciWebservice.deploy_configuration(cpu_cores=1, memory_gb=2)\n",
    "\n",
    "service = Model.deploy(workspace=ws,\n",
    "                       name='bankrupcy',\n",
    "                       models=[registered_model],\n",
    "                       inference_config=inference_config,\n",
    "                       deployment_config=aci_config,\n",
    "                       overwrite=True,\n",
    "                       )"
   ]
  },
  {
   "cell_type": "code",
   "execution_count": 15,
   "metadata": {},
   "outputs": [
    {
     "name": "stdout",
     "output_type": "stream",
     "text": [
      "ACI service creation operation finished, operation \"Succeeded\"\n"
     ]
    }
   ],
   "source": [
    "service.wait_for_deployment()"
   ]
  },
  {
   "cell_type": "code",
   "execution_count": 16,
   "metadata": {},
   "outputs": [],
   "source": [
    "scoring_uri = service.scoring_uri"
   ]
  },
  {
   "cell_type": "code",
   "execution_count": 17,
   "metadata": {},
   "outputs": [],
   "source": [
    "scoreuri = json.dumps({\"URI\": [scoring_uri]})\n",
    "file = open(\"uri.json\", \"w\")\n",
    "file.write(scoreuri)\n",
    "file.close()"
   ]
  }
 ],
 "metadata": {
  "kernelspec": {
   "display_name": "Python 3",
   "language": "python",
   "name": "python3"
  },
  "language_info": {
   "codemirror_mode": {
    "name": "ipython",
    "version": 3
   },
   "file_extension": ".py",
   "mimetype": "text/x-python",
   "name": "python",
   "nbconvert_exporter": "python",
   "pygments_lexer": "ipython3",
   "version": "3.11.9"
  }
 },
 "nbformat": 4,
 "nbformat_minor": 2
}
