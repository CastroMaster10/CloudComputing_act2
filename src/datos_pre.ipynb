{
 "cells": [
  {
   "cell_type": "markdown",
   "metadata": {},
   "source": [
    "## EDA"
   ]
  },
  {
   "cell_type": "code",
   "execution_count": 2,
   "metadata": {},
   "outputs": [
    {
     "name": "stderr",
     "output_type": "stream",
     "text": [
      "c:\\Users\\Ruben\\anaconda3\\lib\\site-packages\\scipy\\__init__.py:146: UserWarning: A NumPy version >=1.16.5 and <1.23.0 is required for this version of SciPy (detected version 1.23.5\n",
      "  warnings.warn(f\"A NumPy version >={np_minversion} and <{np_maxversion}\"\n"
     ]
    }
   ],
   "source": [
    "import kagglehub\n",
    "import pandas as pd\n",
    "import numpy as np\n",
    "from sklearn.decomposition import PCA\n",
    "import warnings \n",
    "warnings.filterwarnings(\"ignore\")"
   ]
  },
  {
   "cell_type": "code",
   "execution_count": 3,
   "metadata": {},
   "outputs": [],
   "source": [
    "#path = kagglehub.dataset_download(\"fedesoriano/company-bankruptcy-prediction\")\n",
    "#data = pd.read_csv(path+\"/data.csv\")\n",
    "data = pd.read_csv(\"../data/prueba.csv\")"
   ]
  },
  {
   "cell_type": "code",
   "execution_count": 4,
   "metadata": {},
   "outputs": [
    {
     "name": "stdout",
     "output_type": "stream",
     "text": [
      "<class 'pandas.core.frame.DataFrame'>\n",
      "RangeIndex: 10 entries, 0 to 9\n",
      "Data columns (total 97 columns):\n",
      " #   Column                                                    Non-Null Count  Dtype  \n",
      "---  ------                                                    --------------  -----  \n",
      " 0   Unnamed: 0                                                10 non-null     int64  \n",
      " 1   Bankrupt?                                                 10 non-null     int64  \n",
      " 2    ROA(C) before interest and depreciation before interest  10 non-null     float64\n",
      " 3    ROA(A) before interest and % after tax                   10 non-null     float64\n",
      " 4    ROA(B) before interest and depreciation after tax        10 non-null     float64\n",
      " 5    Operating Gross Margin                                   10 non-null     float64\n",
      " 6    Realized Sales Gross Margin                              10 non-null     float64\n",
      " 7    Operating Profit Rate                                    10 non-null     float64\n",
      " 8    Pre-tax net Interest Rate                                10 non-null     float64\n",
      " 9    After-tax net Interest Rate                              10 non-null     float64\n",
      " 10   Non-industry income and expenditure/revenue              10 non-null     float64\n",
      " 11   Continuous interest rate (after tax)                     10 non-null     float64\n",
      " 12   Operating Expense Rate                                   10 non-null     float64\n",
      " 13   Research and development expense rate                    10 non-null     float64\n",
      " 14   Cash flow rate                                           10 non-null     float64\n",
      " 15   Interest-bearing debt interest rate                      10 non-null     float64\n",
      " 16   Tax rate (A)                                             10 non-null     float64\n",
      " 17   Net Value Per Share (B)                                  10 non-null     float64\n",
      " 18   Net Value Per Share (A)                                  10 non-null     float64\n",
      " 19   Net Value Per Share (C)                                  10 non-null     float64\n",
      " 20   Persistent EPS in the Last Four Seasons                  10 non-null     float64\n",
      " 21   Cash Flow Per Share                                      10 non-null     float64\n",
      " 22   Revenue Per Share (Yuan ¥)                               10 non-null     float64\n",
      " 23   Operating Profit Per Share (Yuan ¥)                      10 non-null     float64\n",
      " 24   Per Share Net profit before tax (Yuan ¥)                 10 non-null     float64\n",
      " 25   Realized Sales Gross Profit Growth Rate                  10 non-null     float64\n",
      " 26   Operating Profit Growth Rate                             10 non-null     float64\n",
      " 27   After-tax Net Profit Growth Rate                         10 non-null     float64\n",
      " 28   Regular Net Profit Growth Rate                           10 non-null     float64\n",
      " 29   Continuous Net Profit Growth Rate                        10 non-null     float64\n",
      " 30   Total Asset Growth Rate                                  10 non-null     float64\n",
      " 31   Net Value Growth Rate                                    10 non-null     float64\n",
      " 32   Total Asset Return Growth Rate Ratio                     10 non-null     float64\n",
      " 33   Cash Reinvestment %                                      10 non-null     float64\n",
      " 34   Current Ratio                                            10 non-null     float64\n",
      " 35   Quick Ratio                                              10 non-null     float64\n",
      " 36   Interest Expense Ratio                                   10 non-null     float64\n",
      " 37   Total debt/Total net worth                               10 non-null     float64\n",
      " 38   Debt ratio %                                             10 non-null     float64\n",
      " 39   Net worth/Assets                                         10 non-null     float64\n",
      " 40   Long-term fund suitability ratio (A)                     10 non-null     float64\n",
      " 41   Borrowing dependency                                     10 non-null     float64\n",
      " 42   Contingent liabilities/Net worth                         10 non-null     float64\n",
      " 43   Operating profit/Paid-in capital                         10 non-null     float64\n",
      " 44   Net profit before tax/Paid-in capital                    10 non-null     float64\n",
      " 45   Inventory and accounts receivable/Net value              10 non-null     float64\n",
      " 46   Total Asset Turnover                                     10 non-null     float64\n",
      " 47   Accounts Receivable Turnover                             10 non-null     float64\n",
      " 48   Average Collection Days                                  10 non-null     float64\n",
      " 49   Inventory Turnover Rate (times)                          10 non-null     float64\n",
      " 50   Fixed Assets Turnover Frequency                          10 non-null     float64\n",
      " 51   Net Worth Turnover Rate (times)                          10 non-null     float64\n",
      " 52   Revenue per person                                       10 non-null     float64\n",
      " 53   Operating profit per person                              10 non-null     float64\n",
      " 54   Allocation rate per person                               10 non-null     float64\n",
      " 55   Working Capital to Total Assets                          10 non-null     float64\n",
      " 56   Quick Assets/Total Assets                                10 non-null     float64\n",
      " 57   Current Assets/Total Assets                              10 non-null     float64\n",
      " 58   Cash/Total Assets                                        10 non-null     float64\n",
      " 59   Quick Assets/Current Liability                           10 non-null     float64\n",
      " 60   Cash/Current Liability                                   10 non-null     float64\n",
      " 61   Current Liability to Assets                              10 non-null     float64\n",
      " 62   Operating Funds to Liability                             10 non-null     float64\n",
      " 63   Inventory/Working Capital                                10 non-null     float64\n",
      " 64   Inventory/Current Liability                              10 non-null     float64\n",
      " 65   Current Liabilities/Liability                            10 non-null     float64\n",
      " 66   Working Capital/Equity                                   10 non-null     float64\n",
      " 67   Current Liabilities/Equity                               10 non-null     float64\n",
      " 68   Long-term Liability to Current Assets                    10 non-null     float64\n",
      " 69   Retained Earnings to Total Assets                        10 non-null     float64\n",
      " 70   Total income/Total expense                               10 non-null     float64\n",
      " 71   Total expense/Assets                                     10 non-null     float64\n",
      " 72   Current Asset Turnover Rate                              10 non-null     float64\n",
      " 73   Quick Asset Turnover Rate                                10 non-null     float64\n",
      " 74   Working capitcal Turnover Rate                           10 non-null     float64\n",
      " 75   Cash Turnover Rate                                       10 non-null     float64\n",
      " 76   Cash Flow to Sales                                       10 non-null     float64\n",
      " 77   Fixed Assets to Assets                                   10 non-null     float64\n",
      " 78   Current Liability to Liability                           10 non-null     float64\n",
      " 79   Current Liability to Equity                              10 non-null     float64\n",
      " 80   Equity to Long-term Liability                            10 non-null     float64\n",
      " 81   Cash Flow to Total Assets                                10 non-null     float64\n",
      " 82   Cash Flow to Liability                                   10 non-null     float64\n",
      " 83   CFO to Assets                                            10 non-null     float64\n",
      " 84   Cash Flow to Equity                                      10 non-null     float64\n",
      " 85   Current Liability to Current Assets                      10 non-null     float64\n",
      " 86   Liability-Assets Flag                                    10 non-null     int64  \n",
      " 87   Net Income to Total Assets                               10 non-null     float64\n",
      " 88   Total assets to GNP price                                10 non-null     float64\n",
      " 89   No-credit Interval                                       10 non-null     float64\n",
      " 90   Gross Profit to Sales                                    10 non-null     float64\n",
      " 91   Net Income to Stockholder's Equity                       10 non-null     float64\n",
      " 92   Liability to Equity                                      10 non-null     float64\n",
      " 93   Degree of Financial Leverage (DFL)                       10 non-null     float64\n",
      " 94   Interest Coverage Ratio (Interest expense to EBIT)       10 non-null     float64\n",
      " 95   Net Income Flag                                          10 non-null     int64  \n",
      " 96   Equity to Liability                                      10 non-null     float64\n",
      "dtypes: float64(93), int64(4)\n",
      "memory usage: 7.7 KB\n"
     ]
    }
   ],
   "source": [
    "data.info()"
   ]
  },
  {
   "cell_type": "code",
   "execution_count": 5,
   "metadata": {},
   "outputs": [
    {
     "data": {
      "application/vnd.microsoft.datawrangler.viewer.v0+json": {
       "columns": [
        {
         "name": "index",
         "rawType": "int64",
         "type": "integer"
        },
        {
         "name": "Unnamed: 0",
         "rawType": "int64",
         "type": "integer"
        },
        {
         "name": "Bankrupt?",
         "rawType": "int64",
         "type": "integer"
        },
        {
         "name": " ROA(C) before interest and depreciation before interest",
         "rawType": "float64",
         "type": "float"
        },
        {
         "name": " ROA(A) before interest and % after tax",
         "rawType": "float64",
         "type": "float"
        },
        {
         "name": " ROA(B) before interest and depreciation after tax",
         "rawType": "float64",
         "type": "float"
        },
        {
         "name": " Operating Gross Margin",
         "rawType": "float64",
         "type": "float"
        },
        {
         "name": " Realized Sales Gross Margin",
         "rawType": "float64",
         "type": "float"
        },
        {
         "name": " Operating Profit Rate",
         "rawType": "float64",
         "type": "float"
        },
        {
         "name": " Pre-tax net Interest Rate",
         "rawType": "float64",
         "type": "float"
        },
        {
         "name": " After-tax net Interest Rate",
         "rawType": "float64",
         "type": "float"
        },
        {
         "name": " Non-industry income and expenditure/revenue",
         "rawType": "float64",
         "type": "float"
        },
        {
         "name": " Continuous interest rate (after tax)",
         "rawType": "float64",
         "type": "float"
        },
        {
         "name": " Operating Expense Rate",
         "rawType": "float64",
         "type": "float"
        },
        {
         "name": " Research and development expense rate",
         "rawType": "float64",
         "type": "float"
        },
        {
         "name": " Cash flow rate",
         "rawType": "float64",
         "type": "float"
        },
        {
         "name": " Interest-bearing debt interest rate",
         "rawType": "float64",
         "type": "float"
        },
        {
         "name": " Tax rate (A)",
         "rawType": "float64",
         "type": "float"
        },
        {
         "name": " Net Value Per Share (B)",
         "rawType": "float64",
         "type": "float"
        },
        {
         "name": " Net Value Per Share (A)",
         "rawType": "float64",
         "type": "float"
        },
        {
         "name": " Net Value Per Share (C)",
         "rawType": "float64",
         "type": "float"
        },
        {
         "name": " Persistent EPS in the Last Four Seasons",
         "rawType": "float64",
         "type": "float"
        },
        {
         "name": " Cash Flow Per Share",
         "rawType": "float64",
         "type": "float"
        },
        {
         "name": " Revenue Per Share (Yuan ¥)",
         "rawType": "float64",
         "type": "float"
        },
        {
         "name": " Operating Profit Per Share (Yuan ¥)",
         "rawType": "float64",
         "type": "float"
        },
        {
         "name": " Per Share Net profit before tax (Yuan ¥)",
         "rawType": "float64",
         "type": "float"
        },
        {
         "name": " Realized Sales Gross Profit Growth Rate",
         "rawType": "float64",
         "type": "float"
        },
        {
         "name": " Operating Profit Growth Rate",
         "rawType": "float64",
         "type": "float"
        },
        {
         "name": " After-tax Net Profit Growth Rate",
         "rawType": "float64",
         "type": "float"
        },
        {
         "name": " Regular Net Profit Growth Rate",
         "rawType": "float64",
         "type": "float"
        },
        {
         "name": " Continuous Net Profit Growth Rate",
         "rawType": "float64",
         "type": "float"
        },
        {
         "name": " Total Asset Growth Rate",
         "rawType": "float64",
         "type": "float"
        },
        {
         "name": " Net Value Growth Rate",
         "rawType": "float64",
         "type": "float"
        },
        {
         "name": " Total Asset Return Growth Rate Ratio",
         "rawType": "float64",
         "type": "float"
        },
        {
         "name": " Cash Reinvestment %",
         "rawType": "float64",
         "type": "float"
        },
        {
         "name": " Current Ratio",
         "rawType": "float64",
         "type": "float"
        },
        {
         "name": " Quick Ratio",
         "rawType": "float64",
         "type": "float"
        },
        {
         "name": " Interest Expense Ratio",
         "rawType": "float64",
         "type": "float"
        },
        {
         "name": " Total debt/Total net worth",
         "rawType": "float64",
         "type": "float"
        },
        {
         "name": " Debt ratio %",
         "rawType": "float64",
         "type": "float"
        },
        {
         "name": " Net worth/Assets",
         "rawType": "float64",
         "type": "float"
        },
        {
         "name": " Long-term fund suitability ratio (A)",
         "rawType": "float64",
         "type": "float"
        },
        {
         "name": " Borrowing dependency",
         "rawType": "float64",
         "type": "float"
        },
        {
         "name": " Contingent liabilities/Net worth",
         "rawType": "float64",
         "type": "float"
        },
        {
         "name": " Operating profit/Paid-in capital",
         "rawType": "float64",
         "type": "float"
        },
        {
         "name": " Net profit before tax/Paid-in capital",
         "rawType": "float64",
         "type": "float"
        },
        {
         "name": " Inventory and accounts receivable/Net value",
         "rawType": "float64",
         "type": "float"
        },
        {
         "name": " Total Asset Turnover",
         "rawType": "float64",
         "type": "float"
        },
        {
         "name": " Accounts Receivable Turnover",
         "rawType": "float64",
         "type": "float"
        },
        {
         "name": " Average Collection Days",
         "rawType": "float64",
         "type": "float"
        },
        {
         "name": " Inventory Turnover Rate (times)",
         "rawType": "float64",
         "type": "float"
        },
        {
         "name": " Fixed Assets Turnover Frequency",
         "rawType": "float64",
         "type": "float"
        },
        {
         "name": " Net Worth Turnover Rate (times)",
         "rawType": "float64",
         "type": "float"
        },
        {
         "name": " Revenue per person",
         "rawType": "float64",
         "type": "float"
        },
        {
         "name": " Operating profit per person",
         "rawType": "float64",
         "type": "float"
        },
        {
         "name": " Allocation rate per person",
         "rawType": "float64",
         "type": "float"
        },
        {
         "name": " Working Capital to Total Assets",
         "rawType": "float64",
         "type": "float"
        },
        {
         "name": " Quick Assets/Total Assets",
         "rawType": "float64",
         "type": "float"
        },
        {
         "name": " Current Assets/Total Assets",
         "rawType": "float64",
         "type": "float"
        },
        {
         "name": " Cash/Total Assets",
         "rawType": "float64",
         "type": "float"
        },
        {
         "name": " Quick Assets/Current Liability",
         "rawType": "float64",
         "type": "float"
        },
        {
         "name": " Cash/Current Liability",
         "rawType": "float64",
         "type": "float"
        },
        {
         "name": " Current Liability to Assets",
         "rawType": "float64",
         "type": "float"
        },
        {
         "name": " Operating Funds to Liability",
         "rawType": "float64",
         "type": "float"
        },
        {
         "name": " Inventory/Working Capital",
         "rawType": "float64",
         "type": "float"
        },
        {
         "name": " Inventory/Current Liability",
         "rawType": "float64",
         "type": "float"
        },
        {
         "name": " Current Liabilities/Liability",
         "rawType": "float64",
         "type": "float"
        },
        {
         "name": " Working Capital/Equity",
         "rawType": "float64",
         "type": "float"
        },
        {
         "name": " Current Liabilities/Equity",
         "rawType": "float64",
         "type": "float"
        },
        {
         "name": " Long-term Liability to Current Assets",
         "rawType": "float64",
         "type": "float"
        },
        {
         "name": " Retained Earnings to Total Assets",
         "rawType": "float64",
         "type": "float"
        },
        {
         "name": " Total income/Total expense",
         "rawType": "float64",
         "type": "float"
        },
        {
         "name": " Total expense/Assets",
         "rawType": "float64",
         "type": "float"
        },
        {
         "name": " Current Asset Turnover Rate",
         "rawType": "float64",
         "type": "float"
        },
        {
         "name": " Quick Asset Turnover Rate",
         "rawType": "float64",
         "type": "float"
        },
        {
         "name": " Working capitcal Turnover Rate",
         "rawType": "float64",
         "type": "float"
        },
        {
         "name": " Cash Turnover Rate",
         "rawType": "float64",
         "type": "float"
        },
        {
         "name": " Cash Flow to Sales",
         "rawType": "float64",
         "type": "float"
        },
        {
         "name": " Fixed Assets to Assets",
         "rawType": "float64",
         "type": "float"
        },
        {
         "name": " Current Liability to Liability",
         "rawType": "float64",
         "type": "float"
        },
        {
         "name": " Current Liability to Equity",
         "rawType": "float64",
         "type": "float"
        },
        {
         "name": " Equity to Long-term Liability",
         "rawType": "float64",
         "type": "float"
        },
        {
         "name": " Cash Flow to Total Assets",
         "rawType": "float64",
         "type": "float"
        },
        {
         "name": " Cash Flow to Liability",
         "rawType": "float64",
         "type": "float"
        },
        {
         "name": " CFO to Assets",
         "rawType": "float64",
         "type": "float"
        },
        {
         "name": " Cash Flow to Equity",
         "rawType": "float64",
         "type": "float"
        },
        {
         "name": " Current Liability to Current Assets",
         "rawType": "float64",
         "type": "float"
        },
        {
         "name": " Liability-Assets Flag",
         "rawType": "int64",
         "type": "integer"
        },
        {
         "name": " Net Income to Total Assets",
         "rawType": "float64",
         "type": "float"
        },
        {
         "name": " Total assets to GNP price",
         "rawType": "float64",
         "type": "float"
        },
        {
         "name": " No-credit Interval",
         "rawType": "float64",
         "type": "float"
        },
        {
         "name": " Gross Profit to Sales",
         "rawType": "float64",
         "type": "float"
        },
        {
         "name": " Net Income to Stockholder's Equity",
         "rawType": "float64",
         "type": "float"
        },
        {
         "name": " Liability to Equity",
         "rawType": "float64",
         "type": "float"
        },
        {
         "name": " Degree of Financial Leverage (DFL)",
         "rawType": "float64",
         "type": "float"
        },
        {
         "name": " Interest Coverage Ratio (Interest expense to EBIT)",
         "rawType": "float64",
         "type": "float"
        },
        {
         "name": " Net Income Flag",
         "rawType": "int64",
         "type": "integer"
        },
        {
         "name": " Equity to Liability",
         "rawType": "float64",
         "type": "float"
        }
       ],
       "conversionMethod": "pd.DataFrame",
       "ref": "75eaaa63-3228-4872-b7c2-35f084145957",
       "rows": [
        [
         "0",
         "0",
         "0",
         "302583.8468288399",
         "215926.6683384212",
         "160681.37523422018",
         "113789.97308263296",
         "363023.50657980057",
         "21337.20127379261",
         "391837.8873053674",
         "401233.99270999",
         "-3081.409914827717",
         "339932.91356076405",
         "-22225.47540926361",
         "134130959977665.0",
         "37108.55158484521",
         "-27672.744104410453",
         "-18222.0",
         "-450.8670515359845",
         "88294.91302515693",
         "7123.61527116429",
         "101732.0832939397",
         "50727.5995968028",
         "-37808.14525764932",
         "31253.529598566667",
         "49693.461926640026",
         "7561.1614701945855",
         "406381.0255993544",
         "238941.0254490281",
         "122684.34026908792",
         "-8436.7413515447",
         "-6122.540793106617",
         "-31327.65560968772",
         "20673.823732817407",
         "-18151.430144182406",
         "-6586.561533973367",
         "-32082.33960126613",
         "28034.867347022628",
         "-12265.664712426717",
         "11260.03887897934",
         "161919.8883514224",
         "-17967.847705545853",
         "18731.388189665035",
         "5122.460692697634",
         "-32143.187763610014",
         "19120.54661036124",
         "-7850.448745550417",
         "4640.26686656673",
         "1512.1306625546315",
         "3538.954998996642",
         "-34430.38828351647",
         "-9087.029716744551",
         "9879.391774193577",
         "-33394.10763920509",
         "110993.30893693025",
         "-21345.09675104125",
         "220205.28419218416",
         "87055.08609195137",
         "345995.4772189651",
         "119886.5682899532",
         "-4734.756538434717",
         "17400.71202832768",
         "-29374.348088845494",
         "-17348.650873492872",
         "78644.30263247258",
         "-38662.5154775117",
         "37836.21218586732",
         "154215.30460600645",
         "10273.452013786784",
         "-41776.69368404678",
         "289866.88194287394",
         "-13156.417095625393",
         "-13085.492444916954",
         "-9587.465693409722",
         "-25876.84913104649",
         "218005.6497504488",
         "-23431.060934960416",
         "40430.67043808352",
         "78966.91466987223",
         "496707.5166274135",
         "133417.9468365987",
         "389.5134150190788",
         "486400.2703255134",
         "105662.20895974658",
         "330604.54353412974",
         "33395.52972257219",
         "-35837.038664618085",
         "-21508",
         "-20803.84086478251",
         "-31727.66106378424",
         "254483.52508520347",
         "91398.77182789228",
         "185869.6845945249",
         "56136.47554066313",
         "6439.213877400241",
         "194339.9997253463",
         "218748",
         "-21751.61926033847"
        ],
        [
         "1",
         "1",
         "0",
         "296828.27377760457",
         "213045.32010466643",
         "155028.17779324358",
         "111604.7278138918",
         "357377.7109788264",
         "21333.98151336825",
         "391764.7517007231",
         "401162.054604768",
         "-3081.3828440662564",
         "339868.92227825976",
         "5834734399977700.0",
         "8682335977665.0",
         "36253.12679600415",
         "-27730.136513651367",
         "32532.41815973281",
         "3677.192701529639",
         "98230.8397033416",
         "9001.93047069234",
         "117142.952538527",
         "24549.18356086874",
         "-34513.9757248514",
         "52479.01278397527",
         "68170.66054078496",
         "7573.528496443709",
         "406540.52796610666",
         "239189.53352289088",
         "122800.39175899288",
         "-8434.917682686282",
         "-6149.281583808739",
         "-31589.35408254441",
         "20687.65987831316",
         "-18719.467363362022",
         "-11374.522516310435",
         "-36519.7858193583",
         "28046.14042341883",
         "823.5545764597628",
         "56734.25891102588",
         "124526.95788614436",
         "-18001.155233126192",
         "21511.57123062155",
         "5122.460692697634",
         "-30095.96731642973",
         "26905.55452077517",
         "-4662.046480346959",
         "104618.1019490252",
         "1492.1299889421884",
         "4062.46319011856",
         "-34139.03676436167",
         "-8788.664500813658",
         "79703.96854838727",
         "-12402.879544085892",
         "112713.4066959137",
         "-22302.37621019097",
         "196700.57695513996",
         "114996.31485597671",
         "442717.98215857847",
         "-7959.482398100594",
         "-8414.121605240569",
         "-3260.971038410331",
         "-28569.83545281568",
         "-17875.934649430503",
         "78656.78288148352",
         "-39421.779353362144",
         "35663.13583669995",
         "154762.53556067185",
         "12216.004917583688",
         "-40635.30946990537",
         "291048.96771585045",
         "-13201.356398049196",
         "-10196.040132319891",
         "-9702.679597944934",
         "-26051.44601104296",
         "217920.2580390932",
         "697461599976368.0",
         "40400.45110359239",
         "16440.844732159472",
         "481227.2014649676",
         "145563.7189045148",
         "7824.8082329936",
         "371620.24855094886",
         "88229.30059833523",
         "242344.16844116943",
         "28481.497053701576",
         "-31303.58102593493",
         "-21508",
         "-20816.707255570826",
         "-32506.27909556061",
         "251459.3240814013",
         "89736.38481138856",
         "186528.8010631285",
         "63877.10162123082",
         "6446.586494404911",
         "194383.05312746527",
         "218748",
         "-30299.88458795255"
        ],
        [
         "2",
         "2",
         "0",
         "327271.45712475025",
         "234716.99912778",
         "172092.13683816054",
         "114193.62879978094",
         "364066.39073783136",
         "21337.08628234888",
         "392031.5347199292",
         "401360.04878650856",
         "-3074.9916833821576",
         "340061.2126009583",
         "-22205.92420490372",
         "118547279977665.0",
         "38676.26877364267",
         "-27722.547434743483",
         "15988.980564834594",
         "3358.286797859364",
         "97463.2573848553",
         "8856.824575449842",
         "112227.41665878776",
         "52830.78963004868",
         "-37709.368286522375",
         "33301.98485465327",
         "58565.60322361972",
         "7590.2715473655535",
         "406503.3686100844",
         "238917.68420491333",
         "122673.44007532904",
         "-8436.495089691543",
         "1915872749993816.0",
         "-31606.771048285194",
         "20660.45397424836",
         "-18085.2972318468",
         "-10097.584755741802",
         "-35830.41851209066",
         "28025.04647915779",
         "-12532.4204552294",
         "7003.908032772028",
         "165419.65601475342",
         "-17051.399482359935",
         "18649.72039979157",
         "5122.460692697634",
         "-31949.73636556095",
         "23255.571947816832",
         "-7931.653160473361",
         "-166.35982008996507",
         "1589.633272802869",
         "2284.461290171049",
         "-34464.46448458721",
         "-8962.494670095131",
         "8898.70951612903",
         "-33215.743513064976",
         "111028.33355193232",
         "-25167.97171440497",
         "193021.91266255797",
         "18814.742665693877",
         "109806.77999040217",
         "-13209.495047296496",
         "-7842.194876782407",
         "-937.0035527276436",
         "-29507.85718721402",
         "-16602.838272423207",
         "78703.07109871188",
         "-37101.472427497065",
         "22795.35511059822",
         "152929.0506590465",
         "10210.789259608213",
         "-42428.0",
         "294598.2061072372",
         "-13079.15103415375",
         "-12221.304026116562",
         "-9718.99052250614",
         "-26085.849651463457",
         "217927.04862970015",
         "1392918999976368.0",
         "40400.89488582924",
         "869.3381552852006",
         "389561.162599088",
         "133026.14925522363",
         "-142.15889885452634",
         "374903.1347730586",
         "88612.22281559522",
         "365290.2348498808",
         "28845.211736722173",
         "-33512.4186971412",
         "-21508",
         "-20231.91588796201",
         "-30668.67236534792",
         "251464.5196117168",
         "91705.14221282446",
         "186246.4876113482",
         "55978.62278654864",
         "6426.802672763119",
         "194262.49889682457",
         "218748",
         "-18209.73787198484"
        ],
        [
         "3",
         "3",
         "1",
         "269715.7266123921",
         "192432.5981247272",
         "142886.8491353928",
         "109683.69356001096",
         "352414.53046310844",
         "21329.381855619107",
         "391660.2077056191",
         "401078.7405468915",
         "-3081.3557733047865",
         "339795.50003522803",
         "-22214.58807193378",
         "13051331977665.0",
         "36390.39910755474",
         "-27467.83897389741",
         "-18222.0",
         "-7032.730563398123",
         "72452.866840841",
         "4128.790822131372",
         "95045.1831332134",
         "47412.894567447176",
         "-37726.06697218567",
         "23974.975816301598",
         "40898.46968441687",
         "7444.971506171709",
         "406287.4357003754",
         "238950.22471364957",
         "122682.10266080266",
         "-8436.319986585433",
         "1296271349993816.0",
         "-31650.205637284787",
         "20700.56324995528",
         "-18384.199582727917",
         "-11672.334726568744",
         "-38572.7884931384",
         "27565.04096656209",
         "-8468.032955799357",
         "40193.91921879242",
         "138127.88983281443",
         "-17935.379996691332",
         "20341.5097096065",
         "5540.496025884725",
         "-32843.39771524419",
         "16781.181064776454",
         "-7458.220747484986",
         "4640.26686656673",
         "1574.0077465431448",
         "2467.1347169505034",
         "1745582439965479.0",
         "-9013.519446152906",
         "16646.099354838727",
         "-29054.842882951714",
         "107381.88196784344",
         "-22804.509369261905",
         "189198.5211370482",
         "49820.40576806454",
         "294990.4378588624",
         "-23786.49476395206",
         "-9254.779677602406",
         "-3922.7384962314704",
         "-28859.00684050221",
         "-17794.396417404892",
         "79417.34694147138",
         "-36303.678555550105",
         "36257.94992838589",
         "152917.06320117746",
         "10839.891978385407",
         "-40616.29290114558",
         "278143.26468237967",
         "-13246.77360143758",
         "-6680.5144339970375",
         "-9676.256141847614",
         "-26050.394135637027",
         "217917.3262122067",
         "204428399976368.0",
         "40399.26536897634",
         "30032.17352964041",
         "485464.4707196306",
         "136959.6010621933",
         "2330.8439925292987",
         "364913.2390740808",
         "87797.09334473257",
         "275451.12156287587",
         "28113.85391688777",
         "-30484.59950691989",
         "-21508",
         "-21387.65785412284",
         "-27070.202705093863",
         "251224.73201288693",
         "88276.13751296228",
         "185237.57226831792",
         "58382.35290998974",
         "6204.241903772764",
         "187676.84932003272",
         "218748",
         "-29077.21042889543"
        ],
        [
         "4",
         "4",
         "0",
         "322100.2062106958",
         "225137.1319232449",
         "173448.90422399496",
         "113136.78474033938",
         "361335.93039680616",
         "21336.807017414118",
         "391821.994810434",
         "401217.4219581476",
         "-3081.6314028760744",
         "339927.723367722",
         "5642453379977700.0",
         "52316639977665.0",
         "37559.19153183533",
         "-27691.71680168021",
         "-11477.367749772238",
         "80.64278791454126",
         "89574.21688930092",
         "7365.458429901817",
         "109437.51791623334",
         "52956.78718964406",
         "-37412.471316000425",
         "39011.50907906525",
         "53512.3401370792",
         "7593.71628989969",
         "406429.64749834297",
         "239159.12128902975",
         "122786.1894636869",
         "-8434.906425471097",
         "1934895599993816.0",
         "-31618.378130333866",
         "20717.975028556702",
         "-18094.196788495214",
         "-10324.03069007588",
         "-36210.62252787632",
         "28032.89825070889",
         "-11287.156146782329",
         "22942.92281645869",
         "152313.18665537998",
         "-18135.795605081577",
         "18925.053544867573",
         "5568.541914058682",
         "-31394.19441594609",
         "21491.389857476854",
         "-7546.979061470491",
         "43093.28035981981",
         "1543.3817150740804",
         "2908.9359440177027",
         "-34480.160189322814",
         "-9071.462835913397",
         "17920.986290322606",
         "-33161.39819338165",
         "110954.39269803945",
         "-23290.9089319236",
         "201325.63760125265",
         "55929.99511924489",
         "272502.4981034014",
         "6505.057287567448",
         "-8078.237858618976",
         "-923.9948041706134",
         "-29190.28541526499",
         "-17091.651810384326",
         "78721.59864715526",
         "-36816.99268135277",
         "33703.55993707762",
         "153512.60224177392",
         "10406.679240342271",
         "-40781.339173159984",
         "292554.47260847647",
         "-13158.17714112199",
         "-10710.805027777247",
         "-9710.937881892984",
         "-26077.168113171345",
         "217928.27836101223",
         "1733632999976368.0",
         "40401.36230863269",
         "136333.63198482068",
         "467267.7966228369",
         "134250.94732982636",
         "1186.0191981035678",
         "381017.78757683584",
         "89031.28669970622",
         "365032.7272793956",
         "29175.177067885365",
         "-33222.9001854891",
         "-21508",
         "-20465.78923556768",
         "-32166.78155707718",
         "250142.31688215773",
         "90901.03967984044",
         "186230.4364996328",
         "56715.03608859306",
         "6434.530873706073",
         "194311.52800782875",
         "218748",
         "-26386.10050441565"
        ]
       ],
       "shape": {
        "columns": 97,
        "rows": 5
       }
      },
      "text/html": [
       "<div>\n",
       "<style scoped>\n",
       "    .dataframe tbody tr th:only-of-type {\n",
       "        vertical-align: middle;\n",
       "    }\n",
       "\n",
       "    .dataframe tbody tr th {\n",
       "        vertical-align: top;\n",
       "    }\n",
       "\n",
       "    .dataframe thead th {\n",
       "        text-align: right;\n",
       "    }\n",
       "</style>\n",
       "<table border=\"1\" class=\"dataframe\">\n",
       "  <thead>\n",
       "    <tr style=\"text-align: right;\">\n",
       "      <th></th>\n",
       "      <th>Unnamed: 0</th>\n",
       "      <th>Bankrupt?</th>\n",
       "      <th>ROA(C) before interest and depreciation before interest</th>\n",
       "      <th>ROA(A) before interest and % after tax</th>\n",
       "      <th>ROA(B) before interest and depreciation after tax</th>\n",
       "      <th>Operating Gross Margin</th>\n",
       "      <th>Realized Sales Gross Margin</th>\n",
       "      <th>Operating Profit Rate</th>\n",
       "      <th>Pre-tax net Interest Rate</th>\n",
       "      <th>After-tax net Interest Rate</th>\n",
       "      <th>...</th>\n",
       "      <th>Net Income to Total Assets</th>\n",
       "      <th>Total assets to GNP price</th>\n",
       "      <th>No-credit Interval</th>\n",
       "      <th>Gross Profit to Sales</th>\n",
       "      <th>Net Income to Stockholder's Equity</th>\n",
       "      <th>Liability to Equity</th>\n",
       "      <th>Degree of Financial Leverage (DFL)</th>\n",
       "      <th>Interest Coverage Ratio (Interest expense to EBIT)</th>\n",
       "      <th>Net Income Flag</th>\n",
       "      <th>Equity to Liability</th>\n",
       "    </tr>\n",
       "  </thead>\n",
       "  <tbody>\n",
       "    <tr>\n",
       "      <th>0</th>\n",
       "      <td>0</td>\n",
       "      <td>0</td>\n",
       "      <td>302583.846829</td>\n",
       "      <td>215926.668338</td>\n",
       "      <td>160681.375234</td>\n",
       "      <td>113789.973083</td>\n",
       "      <td>363023.506580</td>\n",
       "      <td>21337.201274</td>\n",
       "      <td>391837.887305</td>\n",
       "      <td>401233.992710</td>\n",
       "      <td>...</td>\n",
       "      <td>-20803.840865</td>\n",
       "      <td>-31727.661064</td>\n",
       "      <td>254483.525085</td>\n",
       "      <td>91398.771828</td>\n",
       "      <td>185869.684595</td>\n",
       "      <td>56136.475541</td>\n",
       "      <td>6439.213877</td>\n",
       "      <td>194339.999725</td>\n",
       "      <td>218748</td>\n",
       "      <td>-21751.619260</td>\n",
       "    </tr>\n",
       "    <tr>\n",
       "      <th>1</th>\n",
       "      <td>1</td>\n",
       "      <td>0</td>\n",
       "      <td>296828.273778</td>\n",
       "      <td>213045.320105</td>\n",
       "      <td>155028.177793</td>\n",
       "      <td>111604.727814</td>\n",
       "      <td>357377.710979</td>\n",
       "      <td>21333.981513</td>\n",
       "      <td>391764.751701</td>\n",
       "      <td>401162.054605</td>\n",
       "      <td>...</td>\n",
       "      <td>-20816.707256</td>\n",
       "      <td>-32506.279096</td>\n",
       "      <td>251459.324081</td>\n",
       "      <td>89736.384811</td>\n",
       "      <td>186528.801063</td>\n",
       "      <td>63877.101621</td>\n",
       "      <td>6446.586494</td>\n",
       "      <td>194383.053127</td>\n",
       "      <td>218748</td>\n",
       "      <td>-30299.884588</td>\n",
       "    </tr>\n",
       "    <tr>\n",
       "      <th>2</th>\n",
       "      <td>2</td>\n",
       "      <td>0</td>\n",
       "      <td>327271.457125</td>\n",
       "      <td>234716.999128</td>\n",
       "      <td>172092.136838</td>\n",
       "      <td>114193.628800</td>\n",
       "      <td>364066.390738</td>\n",
       "      <td>21337.086282</td>\n",
       "      <td>392031.534720</td>\n",
       "      <td>401360.048787</td>\n",
       "      <td>...</td>\n",
       "      <td>-20231.915888</td>\n",
       "      <td>-30668.672365</td>\n",
       "      <td>251464.519612</td>\n",
       "      <td>91705.142213</td>\n",
       "      <td>186246.487611</td>\n",
       "      <td>55978.622787</td>\n",
       "      <td>6426.802673</td>\n",
       "      <td>194262.498897</td>\n",
       "      <td>218748</td>\n",
       "      <td>-18209.737872</td>\n",
       "    </tr>\n",
       "    <tr>\n",
       "      <th>3</th>\n",
       "      <td>3</td>\n",
       "      <td>1</td>\n",
       "      <td>269715.726612</td>\n",
       "      <td>192432.598125</td>\n",
       "      <td>142886.849135</td>\n",
       "      <td>109683.693560</td>\n",
       "      <td>352414.530463</td>\n",
       "      <td>21329.381856</td>\n",
       "      <td>391660.207706</td>\n",
       "      <td>401078.740547</td>\n",
       "      <td>...</td>\n",
       "      <td>-21387.657854</td>\n",
       "      <td>-27070.202705</td>\n",
       "      <td>251224.732013</td>\n",
       "      <td>88276.137513</td>\n",
       "      <td>185237.572268</td>\n",
       "      <td>58382.352910</td>\n",
       "      <td>6204.241904</td>\n",
       "      <td>187676.849320</td>\n",
       "      <td>218748</td>\n",
       "      <td>-29077.210429</td>\n",
       "    </tr>\n",
       "    <tr>\n",
       "      <th>4</th>\n",
       "      <td>4</td>\n",
       "      <td>0</td>\n",
       "      <td>322100.206211</td>\n",
       "      <td>225137.131923</td>\n",
       "      <td>173448.904224</td>\n",
       "      <td>113136.784740</td>\n",
       "      <td>361335.930397</td>\n",
       "      <td>21336.807017</td>\n",
       "      <td>391821.994810</td>\n",
       "      <td>401217.421958</td>\n",
       "      <td>...</td>\n",
       "      <td>-20465.789236</td>\n",
       "      <td>-32166.781557</td>\n",
       "      <td>250142.316882</td>\n",
       "      <td>90901.039680</td>\n",
       "      <td>186230.436500</td>\n",
       "      <td>56715.036089</td>\n",
       "      <td>6434.530874</td>\n",
       "      <td>194311.528008</td>\n",
       "      <td>218748</td>\n",
       "      <td>-26386.100504</td>\n",
       "    </tr>\n",
       "  </tbody>\n",
       "</table>\n",
       "<p>5 rows × 97 columns</p>\n",
       "</div>"
      ],
      "text/plain": [
       "   Unnamed: 0  Bankrupt?  \\\n",
       "0           0          0   \n",
       "1           1          0   \n",
       "2           2          0   \n",
       "3           3          1   \n",
       "4           4          0   \n",
       "\n",
       "    ROA(C) before interest and depreciation before interest  \\\n",
       "0                                      302583.846829          \n",
       "1                                      296828.273778          \n",
       "2                                      327271.457125          \n",
       "3                                      269715.726612          \n",
       "4                                      322100.206211          \n",
       "\n",
       "    ROA(A) before interest and % after tax  \\\n",
       "0                            215926.668338   \n",
       "1                            213045.320105   \n",
       "2                            234716.999128   \n",
       "3                            192432.598125   \n",
       "4                            225137.131923   \n",
       "\n",
       "    ROA(B) before interest and depreciation after tax  \\\n",
       "0                                      160681.375234    \n",
       "1                                      155028.177793    \n",
       "2                                      172092.136838    \n",
       "3                                      142886.849135    \n",
       "4                                      173448.904224    \n",
       "\n",
       "    Operating Gross Margin   Realized Sales Gross Margin  \\\n",
       "0            113789.973083                 363023.506580   \n",
       "1            111604.727814                 357377.710979   \n",
       "2            114193.628800                 364066.390738   \n",
       "3            109683.693560                 352414.530463   \n",
       "4            113136.784740                 361335.930397   \n",
       "\n",
       "    Operating Profit Rate   Pre-tax net Interest Rate  \\\n",
       "0            21337.201274               391837.887305   \n",
       "1            21333.981513               391764.751701   \n",
       "2            21337.086282               392031.534720   \n",
       "3            21329.381856               391660.207706   \n",
       "4            21336.807017               391821.994810   \n",
       "\n",
       "    After-tax net Interest Rate  ...   Net Income to Total Assets  \\\n",
       "0                 401233.992710  ...                -20803.840865   \n",
       "1                 401162.054605  ...                -20816.707256   \n",
       "2                 401360.048787  ...                -20231.915888   \n",
       "3                 401078.740547  ...                -21387.657854   \n",
       "4                 401217.421958  ...                -20465.789236   \n",
       "\n",
       "    Total assets to GNP price   No-credit Interval   Gross Profit to Sales  \\\n",
       "0               -31727.661064        254483.525085            91398.771828   \n",
       "1               -32506.279096        251459.324081            89736.384811   \n",
       "2               -30668.672365        251464.519612            91705.142213   \n",
       "3               -27070.202705        251224.732013            88276.137513   \n",
       "4               -32166.781557        250142.316882            90901.039680   \n",
       "\n",
       "    Net Income to Stockholder's Equity   Liability to Equity  \\\n",
       "0                        185869.684595          56136.475541   \n",
       "1                        186528.801063          63877.101621   \n",
       "2                        186246.487611          55978.622787   \n",
       "3                        185237.572268          58382.352910   \n",
       "4                        186230.436500          56715.036089   \n",
       "\n",
       "    Degree of Financial Leverage (DFL)  \\\n",
       "0                          6439.213877   \n",
       "1                          6446.586494   \n",
       "2                          6426.802673   \n",
       "3                          6204.241904   \n",
       "4                          6434.530874   \n",
       "\n",
       "    Interest Coverage Ratio (Interest expense to EBIT)   Net Income Flag  \\\n",
       "0                                      194339.999725              218748   \n",
       "1                                      194383.053127              218748   \n",
       "2                                      194262.498897              218748   \n",
       "3                                      187676.849320              218748   \n",
       "4                                      194311.528008              218748   \n",
       "\n",
       "    Equity to Liability  \n",
       "0         -21751.619260  \n",
       "1         -30299.884588  \n",
       "2         -18209.737872  \n",
       "3         -29077.210429  \n",
       "4         -26386.100504  \n",
       "\n",
       "[5 rows x 97 columns]"
      ]
     },
     "execution_count": 5,
     "metadata": {},
     "output_type": "execute_result"
    }
   ],
   "source": [
    "data.head()"
   ]
  },
  {
   "cell_type": "code",
   "execution_count": 6,
   "metadata": {},
   "outputs": [
    {
     "data": {
      "text/plain": [
       "Unnamed: 0                                                  0\n",
       "Bankrupt?                                                   0\n",
       " ROA(C) before interest and depreciation before interest    0\n",
       " ROA(A) before interest and % after tax                     0\n",
       " ROA(B) before interest and depreciation after tax          0\n",
       "                                                           ..\n",
       " Liability to Equity                                        0\n",
       " Degree of Financial Leverage (DFL)                         0\n",
       " Interest Coverage Ratio (Interest expense to EBIT)         0\n",
       " Net Income Flag                                            0\n",
       " Equity to Liability                                        0\n",
       "Length: 97, dtype: int64"
      ]
     },
     "execution_count": 6,
     "metadata": {},
     "output_type": "execute_result"
    }
   ],
   "source": [
    "data.isna().sum()"
   ]
  },
  {
   "cell_type": "code",
   "execution_count": 7,
   "metadata": {},
   "outputs": [
    {
     "data": {
      "text/plain": [
       "0"
      ]
     },
     "execution_count": 7,
     "metadata": {},
     "output_type": "execute_result"
    }
   ],
   "source": [
    "data.duplicated().sum()\n"
   ]
  },
  {
   "cell_type": "code",
   "execution_count": 8,
   "metadata": {},
   "outputs": [
    {
     "data": {
      "text/plain": [
       "0    8\n",
       "1    2\n",
       "Name: Bankrupt?, dtype: int64"
      ]
     },
     "execution_count": 8,
     "metadata": {},
     "output_type": "execute_result"
    }
   ],
   "source": [
    "data[\"Bankrupt?\"].value_counts()\n"
   ]
  },
  {
   "cell_type": "code",
   "execution_count": 9,
   "metadata": {},
   "outputs": [
    {
     "name": "stdout",
     "output_type": "stream",
     "text": [
      "Varianza explicada por cada componente: [0.28710647 0.21604671 0.17275087]\n",
      "Varianza total explicada: 0.6759040518255508\n"
     ]
    }
   ],
   "source": [
    "from sklearn.preprocessing import StandardScaler\n",
    "# 3. Separar características (X) y etiqueta (y)\n",
    "X = data.drop(columns=['Bankrupt?'])\n",
    "y = data['Bankrupt?']\n",
    "\n",
    "# 4. Estandarizar\n",
    "scaler = StandardScaler()\n",
    "X_scaled = scaler.fit_transform(X)\n",
    "\n",
    "# 5. PCA con 3 componentes\n",
    "pca = PCA(n_components=3)\n",
    "X_pca = pca.fit_transform(X_scaled)\n",
    "\n",
    "# 6. Crear DataFrame con los componentes\n",
    "columns = ['PC1', 'PC2', 'PC3']\n",
    "df_pca = pd.DataFrame(X_pca, columns=columns)\n",
    "\n",
    "# 7. Agregar columna objetivo\n",
    "df_pca['Bankrupt?'] = y.values\n",
    "\n",
    "# 8. Guardar como CSV\n",
    "df_pca.to_csv('pca_3_componentes.csv', index=False)\n",
    "\n",
    "# 9. Mostrar varianza explicada\n",
    "print(\"Varianza explicada por cada componente:\", pca.explained_variance_ratio_)\n",
    "print(\"Varianza total explicada:\", sum(pca.explained_variance_ratio_))"
   ]
  }
 ],
 "metadata": {
  "kernelspec": {
   "display_name": "base",
   "language": "python",
   "name": "python3"
  },
  "language_info": {
   "codemirror_mode": {
    "name": "ipython",
    "version": 3
   },
   "file_extension": ".py",
   "mimetype": "text/x-python",
   "name": "python",
   "nbconvert_exporter": "python",
   "pygments_lexer": "ipython3",
   "version": "3.9.12"
  }
 },
 "nbformat": 4,
 "nbformat_minor": 2
}
